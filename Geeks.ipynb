{
 "cells": [
  {
   "cell_type": "code",
   "execution_count": 11,
   "id": "b2b4f017",
   "metadata": {},
   "outputs": [
    {
     "name": "stdout",
     "output_type": "stream",
     "text": [
      "enter a string :- aaa\n",
      "aaa  is palindrome\n"
     ]
    }
   ],
   "source": [
    "# chechk if the given string symmetrical or palindrome\n",
    "# symmetrical--> khokho\n",
    "# palindrome--> malayalam\n",
    "# both --> amaama\n",
    "a = input('enter a string :- ')\n",
    "l = len(a)//2\n",
    "# print(a[len(a)-1::-1])\n",
    "if  a[0:l] == a[l:len(a)] and a[0:len(a)] == a[len(a)-1::-1]:\n",
    "    print(a,' is symmetrical and palindrome')\n",
    "elif a[0:l] == a[l:len(a)]:\n",
    "    print(a,' is symmetrical')\n",
    "elif a[0:len(a)] == a[len(a)-1::-1]:\n",
    "        print(a,' is palindrome')\n",
    "else:\n",
    "    print(a)"
   ]
  },
  {
   "cell_type": "code",
   "execution_count": null,
   "id": "dd5a758b",
   "metadata": {},
   "outputs": [],
   "source": []
  },
  {
   "cell_type": "code",
   "execution_count": null,
   "id": "fa8cc727",
   "metadata": {},
   "outputs": [],
   "source": []
  }
 ],
 "metadata": {
  "kernelspec": {
   "display_name": "Python 3 (ipykernel)",
   "language": "python",
   "name": "python3"
  },
  "language_info": {
   "codemirror_mode": {
    "name": "ipython",
    "version": 3
   },
   "file_extension": ".py",
   "mimetype": "text/x-python",
   "name": "python",
   "nbconvert_exporter": "python",
   "pygments_lexer": "ipython3",
   "version": "3.9.12"
  }
 },
 "nbformat": 4,
 "nbformat_minor": 5
}
