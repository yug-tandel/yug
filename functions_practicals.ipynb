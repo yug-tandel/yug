{
 "cells": [
  {
   "cell_type": "code",
   "execution_count": 12,
   "id": "2e9c6515",
   "metadata": {},
   "outputs": [
    {
     "name": "stdout",
     "output_type": "stream",
     "text": [
      "longest-word\n"
     ]
    }
   ],
   "source": [
    "#Q20-M2- Write a python function that takes a list of words and returns the \n",
    "# length of the longest one.\n",
    "\n",
    "def longest_word(words_list):\n",
    "    maximum = words_list[0]\n",
    "    for word in words_list:\n",
    "        if len(word)>len(maximum):\n",
    "            maximum  = word\n",
    "        else:\n",
    "            continue\n",
    "    return maximum\n",
    "\n",
    "words_list = ['yug','python','orange','detol','mi-note11','longest-word']\n",
    "max_length_word = longest_word(words_list)\n",
    "print(max_length_word)"
   ]
  },
  {
   "cell_type": "code",
   "execution_count": 21,
   "id": "174e9e6b",
   "metadata": {},
   "outputs": [
    {
     "name": "stdout",
     "output_type": "stream",
     "text": [
      "enter string - yugtandelyug\n",
      "guylednatguy\n"
     ]
    }
   ],
   "source": [
    "# Q21-M2- Write a Python function to reverses a string if its length is a \n",
    "# multiple of 4.\n",
    "def reverse(string):\n",
    "    if len(string) % 4 == 0:\n",
    "        string = string[-1::-1]\n",
    "        print(string)\n",
    "    else:\n",
    "        pass\n",
    "        \n",
    "string = input('enter string - ') \n",
    "reverse(string)"
   ]
  },
  {
   "cell_type": "code",
   "execution_count": 35,
   "id": "390b1111",
   "metadata": {},
   "outputs": [
    {
     "name": "stdout",
     "output_type": "stream",
     "text": [
      "string - hello my name is yug tandel\n",
      "mid string - (wow)\n",
      "hello my name(wow) is yug tandel\n"
     ]
    }
   ],
   "source": [
    "# Q23-M2- Write a python function to insert a string in the middle of a string\n",
    "def string_insert(string,mid_str):\n",
    "    string = string[0:len(string)//2] + mid_str + string[len(string)//2:]\n",
    "    print(string)\n",
    "\n",
    "string = input('string - ')\n",
    "mid_str = input('mid string - ')\n",
    "string_insert(string,mid_str)"
   ]
  },
  {
   "cell_type": "code",
   "execution_count": 6,
   "id": "676a2166",
   "metadata": {},
   "outputs": [
    {
     "name": "stdout",
     "output_type": "stream",
     "text": [
      "[56, 54, 8, 7, 6, 5, 4, 4, 4, 3, 3, 3, 2, 2, 1, 1, 1]\n",
      "largest number = 56\n",
      "smallest number = 1\n",
      "summation =  164\n"
     ]
    }
   ],
   "source": [
    "# Q5-M3- Write a python function to get the largest number,smallest number\n",
    "# and sum of all from a list\n",
    "def do_work(num_list):\n",
    "    s = 0\n",
    "    num_list.sort(reverse=True)\n",
    "    print(num_list)\n",
    "    print('largest number =',num_list[0])\n",
    "    print('smallest number =',num_list[-1])\n",
    "    for num in num_list:\n",
    "        s = s + num\n",
    "    print('summation = ',s)\n",
    "\n",
    "num_list = [1,2,3,4,5,6,7,8,1,1,2,3,4,56,4,3,54]\n",
    "do_work(num_list)"
   ]
  },
  {
   "cell_type": "code",
   "execution_count": 9,
   "id": "651266ea",
   "metadata": {},
   "outputs": [
    {
     "name": "stdout",
     "output_type": "stream",
     "text": [
      "True\n"
     ]
    }
   ],
   "source": [
    "# Q10-M3- Write a Python function that takes two lists and returns true if they\n",
    "# have at least one common member\n",
    "def common(list1,list2):\n",
    "    for num in list1:\n",
    "        if num in list2:\n",
    "            return True\n",
    "        else:\n",
    "            pass\n",
    "    \n",
    "list1 = [1,2,3,4,5,6,7,8,9]\n",
    "list2 = [0,11,22,43,455,45,6,788]\n",
    "return_value = common(list1,list2)\n",
    "print(return_value)"
   ]
  },
  {
   "cell_type": "code",
   "execution_count": 1,
   "id": "8dc12e77",
   "metadata": {},
   "outputs": [
    {
     "name": "stdout",
     "output_type": "stream",
     "text": [
      "[1, 97, 'python', 'orange', [1, 2]]\n"
     ]
    }
   ],
   "source": [
    "# Q12-M3- Write a python function that takes a list and returns a new list with\n",
    "# unique elements of the first list.\n",
    "def unique(list1):\n",
    "    new_list = list1.copy()\n",
    "    for element in list1:        # element = 87\n",
    "        if list1.count(element)>1:\n",
    "            new_list.pop(new_list.index(element))\n",
    "    return new_list  \n",
    "    \n",
    "my_list = [1,87,97,87,'yug','python','apple','orange',[1,2],'yug','apple',]\n",
    "print(unique(my_list))"
   ]
  },
  {
   "cell_type": "code",
   "execution_count": null,
   "id": "8d20c081",
   "metadata": {},
   "outputs": [],
   "source": []
  }
 ],
 "metadata": {
  "kernelspec": {
   "display_name": "Python 3 (ipykernel)",
   "language": "python",
   "name": "python3"
  },
  "language_info": {
   "codemirror_mode": {
    "name": "ipython",
    "version": 3
   },
   "file_extension": ".py",
   "mimetype": "text/x-python",
   "name": "python",
   "nbconvert_exporter": "python",
   "pygments_lexer": "ipython3",
   "version": "3.9.12"
  }
 },
 "nbformat": 4,
 "nbformat_minor": 5
}
