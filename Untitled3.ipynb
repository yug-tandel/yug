{
 "cells": [
  {
   "cell_type": "code",
   "execution_count": 3,
   "id": "53e2679f",
   "metadata": {},
   "outputs": [
    {
     "name": "stdout",
     "output_type": "stream",
     "text": [
      "enter no of rows :-7\n",
      "  * * * \n",
      "    * * \n",
      "        * \n"
     ]
    }
   ],
   "source": [
    "# homework pattern\n",
    "row = int(input('enter no of rows :-'))\n",
    "\n",
    "# for i in range (0,(row//2+1)):\n",
    "#     for j in range (0,(row//2-i)):\n",
    "#         print(end=' ')\n",
    "#     for k in range(0,i+1):\n",
    "#         print('*',end=' ')\n",
    "#     print()\n",
    "count = (row//2+1)\n",
    "for i in range((row//2+1),row):\n",
    "    for j in range(count+1,row):\n",
    "        print(end=' ')\n",
    "        count = count - 1\n",
    "    for k in range (i,row):\n",
    "        print('*',end=' ')\n",
    "    print()"
   ]
  },
  {
   "cell_type": "code",
   "execution_count": 6,
   "id": "db58196a",
   "metadata": {},
   "outputs": [
    {
     "name": "stdout",
     "output_type": "stream",
     "text": [
      "True\n",
      "True\n"
     ]
    }
   ],
   "source": [
    "x = 34\n",
    "y = 34\n",
    "z = x\n",
    "print(x is y)\n",
    "# print(y is x)\n",
    "print(x is z)\n",
    "# print(z is x)"
   ]
  },
  {
   "cell_type": "code",
   "execution_count": 10,
   "id": "c656c5d1",
   "metadata": {},
   "outputs": [
    {
     "data": {
      "text/plain": [
       "list"
      ]
     },
     "execution_count": 10,
     "metadata": {},
     "output_type": "execute_result"
    }
   ],
   "source": [
    "x = [\"apple\", \"banana\"]\n",
    "y = [\"apple\", \"banana\"]\n",
    "z = x\n",
    "# type(x)\n",
    "type(y)\n",
    "# print(x is y)"
   ]
  },
  {
   "cell_type": "code",
   "execution_count": 12,
   "id": "9e1c0fc0",
   "metadata": {},
   "outputs": [
    {
     "name": "stdout",
     "output_type": "stream",
     "text": [
      "enter original string : a plateaue is an area of the flat land which is higher than the land around it.\n",
      "enter sub string : a\n",
      "11\n"
     ]
    }
   ],
   "source": [
    "string = input('enter original string : ')\n",
    "subString = input('enter sub string : ')\n",
    "\n",
    "print(string.count(subString))"
   ]
  },
  {
   "cell_type": "code",
   "execution_count": 17,
   "id": "87a209b6",
   "metadata": {},
   "outputs": [
    {
     "name": "stdout",
     "output_type": "stream",
     "text": [
      "my name is yug\n",
      "['my', 'name', 'is', 'yug']\n",
      "my-name-is-yug\n"
     ]
    }
   ],
   "source": [
    "a = input()\n",
    "b = a.split()\n",
    "print(b)\n",
    "c = '-'.join(b)\n",
    "print(c)"
   ]
  },
  {
   "cell_type": "code",
   "execution_count": 19,
   "id": "ccc54cde",
   "metadata": {},
   "outputs": [
    {
     "name": "stdout",
     "output_type": "stream",
     "text": [
      "yug tandel\n",
      "Yug Tandel\n"
     ]
    }
   ],
   "source": [
    "str1 = input()\n",
    "print(str1.title())\n"
   ]
  },
  {
   "cell_type": "code",
   "execution_count": 26,
   "id": "16d51b53",
   "metadata": {},
   "outputs": [
    {
     "name": "stdout",
     "output_type": "stream",
     "text": [
      "enter a string : my name IS Yug\n",
      "MY NAME is yUG\n"
     ]
    }
   ],
   "source": [
    "# change all uppercase to lower case and vice versa\n",
    "str1 = input('enter a string : ')\n",
    "str2 = ''\n",
    "for i in str1:\n",
    "    if i.isupper():\n",
    "        str2 = str2 + i.lower()\n",
    "    elif i.islower():\n",
    "        str2 = str2 + i.upper()\n",
    "    else:\n",
    "        str2 = str2 + i\n",
    "print(str2)"
   ]
  },
  {
   "cell_type": "code",
   "execution_count": null,
   "id": "1f34b8ae",
   "metadata": {},
   "outputs": [],
   "source": []
  }
 ],
 "metadata": {
  "kernelspec": {
   "display_name": "Python 3 (ipykernel)",
   "language": "python",
   "name": "python3"
  },
  "language_info": {
   "codemirror_mode": {
    "name": "ipython",
    "version": 3
   },
   "file_extension": ".py",
   "mimetype": "text/x-python",
   "name": "python",
   "nbconvert_exporter": "python",
   "pygments_lexer": "ipython3",
   "version": "3.9.12"
  }
 },
 "nbformat": 4,
 "nbformat_minor": 5
}
