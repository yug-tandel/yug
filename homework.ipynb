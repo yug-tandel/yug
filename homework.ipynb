{
 "cells": [
  {
   "cell_type": "code",
   "execution_count": null,
   "id": "60aaf2ae",
   "metadata": {},
   "outputs": [],
   "source": [
    "# homework pattern\n",
    "row = int(input('enter no of rows :-'))\n",
    "\n",
    "# for i in range (0,(row//2+1)):\n",
    "#     for j in range (0,(row//2-i)):\n",
    "#         print(end=' ')\n",
    "#     for k in range(0,i+1):\n",
    "#         print('*',end=' ')\n",
    "#     print()\n",
    "count = (row//2+1)\n",
    "for i in range((row//2+1),row):\n",
    "    for j in range(count+1,row):\n",
    "        print(end=' ')\n",
    "        count = count - 1\n",
    "    for k in range (i,row):\n",
    "        print('*',end=' ')\n",
    "    print()"
   ]
  },
  {
   "cell_type": "code",
   "execution_count": null,
   "id": "2424bd9f",
   "metadata": {},
   "outputs": [],
   "source": [
    "marks = [32,34,56,45,67,89,78,45,45,13,13]\n",
    "temp_marks = marks[:]\n",
    "temp_marks.sort()\n",
    "rank1 = temp_marks[-1]\n",
    "rank2 = temp_marks[-2]\n",
    "rank3 = temp_marks[-3]\n",
    "last_rank = temp_marks[0]\n",
    "last_second_rank = temp_marks[1]\n",
    "\n",
    "third_list =  marks.copy()\n",
    "\n",
    "print('rank1 index :-',marks.index(rank1))\n",
    "marks.pop(marks.index(rank1))\n",
    "marks.insert(third_list.index(rank1),'')\n",
    "print('rank2 index :-',marks.index(rank2))\n",
    "marks.pop(marks.index(rank2))\n",
    "marks.insert(third_list.index(rank2),'')\n",
    "print('rank3 index :-',marks.index(rank3))\n",
    "marks.pop(marks.index(rank3))\n",
    "marks.insert(third_list.index(rank3),'')\n",
    "print('last_rank index :-',marks.index(last_rank))\n",
    "marks.pop(marks.index(last_rank))\n",
    "marks.insert(third_list.index(last_rank),'')\n",
    "print('last_second_rank index :-',marks.index(last_second_rank))"
   ]
  },
  {
   "cell_type": "code",
   "execution_count": null,
   "id": "f4bab29d",
   "metadata": {},
   "outputs": [],
   "source": [
    "m = [1,2,3,4]\n",
    "m.pop(1)\n",
    "print(m)\n",
    "m.insert(1,'')\n",
    "print(m)\n"
   ]
  },
  {
   "cell_type": "code",
   "execution_count": 15,
   "id": "fed78352",
   "metadata": {},
   "outputs": [
    {
     "name": "stdout",
     "output_type": "stream",
     "text": [
      "p\n"
     ]
    }
   ],
   "source": [
    "l1 = [4,5,6,{4,5,6,7,(5,'p')}]\n",
    "# set1 = {4,5,6,7,(5,'p')}\n",
    "for j in l1:  \n",
    "    for i in l1[3]:\n",
    "        if type(i) == tuple:\n",
    "            var1 = i[1]\n",
    "print(var1)\n"
   ]
  },
  {
   "cell_type": "code",
   "execution_count": 22,
   "id": "cc67fae9",
   "metadata": {},
   "outputs": [
    {
     "name": "stdout",
     "output_type": "stream",
     "text": [
      "[[2, 3], [2, 3], [2, 3], [2, 3]]\n",
      "[[2, 20]]\n",
      "[[2, 20], [2, 20], [2, 20], [2, 20]]\n"
     ]
    }
   ],
   "source": [
    "list1 = [[2,3]]\n",
    "var1 = (list1*4).copy()\n",
    "print(var1)\n",
    "var2 = var1.copy()\n",
    "var2[1][1] = 20\n",
    "print(list1)\n",
    "print(var2)"
   ]
  },
  {
   "cell_type": "code",
   "execution_count": 23,
   "id": "45bc3362",
   "metadata": {},
   "outputs": [
    {
     "name": "stdout",
     "output_type": "stream",
     "text": [
      "[1, 2, 3]\n",
      "[1, 2, 3, 23]\n"
     ]
    }
   ],
   "source": [
    "l1 = [1,2,3]\n",
    "l2 = l1.copy()\n",
    "l2.append(23)\n",
    "print(l1)\n",
    "print(l2)"
   ]
  }
 ],
 "metadata": {
  "kernelspec": {
   "display_name": "Python 3 (ipykernel)",
   "language": "python",
   "name": "python3"
  },
  "language_info": {
   "codemirror_mode": {
    "name": "ipython",
    "version": 3
   },
   "file_extension": ".py",
   "mimetype": "text/x-python",
   "name": "python",
   "nbconvert_exporter": "python",
   "pygments_lexer": "ipython3",
   "version": "3.9.12"
  }
 },
 "nbformat": 4,
 "nbformat_minor": 5
}
