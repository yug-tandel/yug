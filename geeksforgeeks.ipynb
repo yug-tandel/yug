{
 "cells": [
  {
   "cell_type": "code",
   "execution_count": null,
   "id": "a9cea53f",
   "metadata": {},
   "outputs": [],
   "source": [
    "#1 chechk if the given string symmetrical or palindrome\n",
    "# symmetrical--> khokho\n",
    "# palindrome--> malayalam\n",
    "# both --> amaama\n",
    "a = input('enter a string :- ')\n",
    "l = len(a)//2\n",
    "# print(a[len(a)-1::-1])\n",
    "if  a[0:l] == a[l:len(a)] and a[0:len(a)] == a[len(a)-1::-1]:\n",
    "    print(a,' is symmetrical and palindrome')\n",
    "elif a[0:l] == a[l:len(a)]:\n",
    "    print(a,' is symmetrical')\n",
    "elif a[0:len(a)] == a[len(a)-1::-1]:\n",
    "        print(a,' is palindrome')\n",
    "else:\n",
    "    print(a)"
   ]
  },
  {
   "cell_type": "code",
   "execution_count": null,
   "id": "93e264fc",
   "metadata": {},
   "outputs": [],
   "source": [
    "#2 Reverse the words in the given string\n",
    "a = input('enter the string:- ')\n",
    "str1 = a[len(a)::-1]\n",
    "print(str1)"
   ]
  },
  {
   "cell_type": "code",
   "execution_count": 7,
   "id": "8a00e37d",
   "metadata": {},
   "outputs": [
    {
     "name": "stdout",
     "output_type": "stream",
     "text": [
      "enter a string:- yug b tandel\n",
      "enter the index number you want to remove : 4\n",
      "yug tandel\n"
     ]
    }
   ],
   "source": [
    "#3 Remove the character at i\"th index from the string in python\n",
    "a = input('enter a string:- ')\n",
    "i = int(input('enter the index number you want to remove : '))\n",
    "if i>len(a):\n",
    "    print('invalid index')\n",
    "else:\n",
    "    str1 = a[0:i].rstrip() + a[i+1:len(a)]\n",
    "    print(str1)"
   ]
  },
  {
   "cell_type": "code",
   "execution_count": 9,
   "id": "ccca66e6",
   "metadata": {},
   "outputs": [
    {
     "name": "stdout",
     "output_type": "stream",
     "text": [
      "enter a string : hello guys my name is yug\n",
      "25\n"
     ]
    }
   ],
   "source": [
    "#4 find length of a string in python\n",
    "str1 = input('enter a string : ')\n",
    "print(len(str1))"
   ]
  },
  {
   "cell_type": "code",
   "execution_count": 13,
   "id": "457544d2",
   "metadata": {},
   "outputs": [
    {
     "name": "stdout",
     "output_type": "stream",
     "text": [
      "enter a string :             0      0    0  f\n",
      "Total characters lenght is : 4\n"
     ]
    }
   ],
   "source": [
    "#5 Avoid spaces in string length and print the length\n",
    "str1 = input('enter a string : ')\n",
    "count = 0\n",
    "for i in str1:\n",
    "    if i == ' ':\n",
    "        continue\n",
    "    else:\n",
    "        count = count + 1\n",
    "print('Total characters lenght is :' , count)"
   ]
  },
  {
   "cell_type": "code",
   "execution_count": 16,
   "id": "51719543",
   "metadata": {},
   "outputs": [
    {
     "name": "stdout",
     "output_type": "stream",
     "text": [
      "['This', 'is', 'a', 'python', 'language']\n",
      "This\n",
      "is\n",
      "python\n",
      "language\n"
     ]
    }
   ],
   "source": [
    "# 6 Python program to print even length word in a string\n",
    "# even lenght words means words having even length of characters\n",
    "# for example 'this' has 4 character which is even \n",
    "# for example2 'the' has 3 character which is odd \n",
    "# To print even length words in string\n",
    "\n",
    "#input string\n",
    "n=\"This is a python language\"\n",
    "#splitting the words in a given string\n",
    "s=n.split(\" \")\n",
    "print(s)\n",
    "for i in s:\n",
    "#checking the length of words\n",
    "    if len(i)%2==0:\n",
    "        print(i)\n",
    "\n"
   ]
  },
  {
   "cell_type": "code",
   "execution_count": 17,
   "id": "60fedec6",
   "metadata": {},
   "outputs": [
    {
     "name": "stdout",
     "output_type": "stream",
     "text": [
      "enter a string : hello my name is yug and i am from gujarat india\n",
      "my\n",
      "name\n",
      "is\n",
      "am\n",
      "from\n"
     ]
    }
   ],
   "source": [
    "str1 = input('enter a string : ')\n",
    "list1 = str1.split()\n",
    "for i in list1:\n",
    "    if len(i)%2==0:\n",
    "        print(i)"
   ]
  },
  {
   "cell_type": "code",
   "execution_count": 23,
   "id": "0e3a5571",
   "metadata": {},
   "outputs": [
    {
     "name": "stdout",
     "output_type": "stream",
     "text": [
      "enter a string : yug b tandel\n",
      "yug bTANDEL\n"
     ]
    }
   ],
   "source": [
    "#7 UpperCase halflength\n",
    "# means half string should upperCase and half should lowerCase\n",
    "str1 = input('enter a string : ')\n",
    "hl = len(str1)//2 # hl means halfLength\n",
    "str2 = (str1[0:hl].lower()).strip() + (str1[hl:len(str1)].upper()).strip()\n",
    "print(str2)"
   ]
  },
  {
   "cell_type": "code",
   "execution_count": 22,
   "id": "034386c6",
   "metadata": {},
   "outputs": [
    {
     "name": "stdout",
     "output_type": "stream",
     "text": [
      "The original string is : geeksforgee          ks\n",
      "The resultant string : geeksforgee          KS\n"
     ]
    }
   ],
   "source": [
    "# Python3 code to demonstrate working of\n",
    "# Uppercase Half String\n",
    "# Using upper() + loop + len()\n",
    "\n",
    "# initializing string\n",
    "test_str = 'geeksforgee          ks'\n",
    "\n",
    "# printing original string\n",
    "print(\"The original string is : \" + str(test_str))\n",
    "\n",
    "# computing half index\n",
    "hlf_idx = len(test_str) // 2\n",
    "\n",
    "res = ''\n",
    "for idx in range(len(test_str)):\n",
    "    \n",
    "    # uppercasing later half\n",
    "    if idx >= hlf_idx:\n",
    "        res += test_str[idx].upper()\n",
    "    else :\n",
    "        res += test_str[idx]\n",
    "\n",
    "# printing result\n",
    "print(\"The resultant string : \" + str(res))\n"
   ]
  },
  {
   "cell_type": "code",
   "execution_count": 40,
   "id": "eeebadb7",
   "metadata": {},
   "outputs": [
    {
     "name": "stdout",
     "output_type": "stream",
     "text": [
      "enter a string : my name is yug and i am a student\n",
      "['my', 'name', 'is', 'yug', 'and', 'i', 'am', 'a', 'student']\n",
      "MY NamE IS YuG AnD I AM A StudenT \n"
     ]
    }
   ],
   "source": [
    "#8 Python program to capitalize first and last characters of each word of a string\n",
    "a = input('enter a string : ')\n",
    "list1 = a.split()\n",
    "print(list1)\n",
    "OS = ''     # OS means OutputString\n",
    "for word in list1:\n",
    "    for i in word:\n",
    "        if len(word)==1:\n",
    "            OS += i.upper() + ' '\n",
    "        else:\n",
    "            OS = OS + word[0].upper() + word[1:-1] + word[-1].upper() + ' '\n",
    "        break\n",
    "print(OS)"
   ]
  },
  {
   "cell_type": "code",
   "execution_count": null,
   "id": "9df2a2ad",
   "metadata": {},
   "outputs": [],
   "source": [
    "#9 Write a program to check if a string has atleast one letter and one word"
   ]
  }
 ],
 "metadata": {
  "kernelspec": {
   "display_name": "Python 3 (ipykernel)",
   "language": "python",
   "name": "python3"
  },
  "language_info": {
   "codemirror_mode": {
    "name": "ipython",
    "version": 3
   },
   "file_extension": ".py",
   "mimetype": "text/x-python",
   "name": "python",
   "nbconvert_exporter": "python",
   "pygments_lexer": "ipython3",
   "version": "3.9.12"
  }
 },
 "nbformat": 4,
 "nbformat_minor": 5
}
