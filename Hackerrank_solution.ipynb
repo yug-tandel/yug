{
 "cells": [
  {
   "cell_type": "code",
   "execution_count": null,
   "id": "f115913d",
   "metadata": {},
   "outputs": [],
   "source": [
    "# Task\n",
    "# Given an integer,n , perform the following conditional actions:\n",
    "\n",
    "# If n is odd, print Weird\n",
    "# If n is even and in the inclusive range of 2 to 5, print Not Weird\n",
    "# If n is even and in the inclusive range of 6 to 20, print Weird\n",
    "# If n is even and greater than 20, print Not Weird\n",
    "\n",
    "\n",
    "n = int(input())\n",
    "if n%2!=0:\n",
    "    print('Weird')\n",
    "elif n%2==0 and n in range(2,6):\n",
    "    print('Not Weird')\n",
    "elif n%2==0 and n in range(6,21):\n",
    "    print('Weird')\n",
    "elif n%2==0 and n>20:\n",
    "    print('Not Weird')"
   ]
  },
  {
   "cell_type": "code",
   "execution_count": null,
   "id": "af337c27",
   "metadata": {},
   "outputs": [],
   "source": [
    "# The provided code stub reads two integers from STDIN, a and b. Add code to print three lines where:\n",
    "\n",
    "# The first line contains the sum of the two numbers.\n",
    "# The second line contains the difference of the two numbers (first - second).\n",
    "# The third line contains the product of the two numbers.\n",
    "\n",
    "a = int(input())\n",
    "b = int(input())\n",
    "print(a + b)\n",
    "print(a - b)\n",
    "print(a * b)"
   ]
  },
  {
   "cell_type": "code",
   "execution_count": null,
   "id": "2e661b01",
   "metadata": {},
   "outputs": [],
   "source": [
    "# Task\n",
    "# The provided code stub reads two integers, a and b, from STDIN.\n",
    "\n",
    "# Add logic to print two lines. The first line should contain the result of integer division, a // b. \n",
    "# The second line should contain the result of float division, a / b.\n",
    "\n",
    "a = int(input())\n",
    "b = int(input())\n",
    "print(a//b)\n",
    "print((a/b))\n"
   ]
  },
  {
   "cell_type": "code",
   "execution_count": null,
   "id": "2fe59ab2",
   "metadata": {},
   "outputs": [],
   "source": [
    "# Task\n",
    "# The provided code stub reads and integer, i, from STDIN. For all non-negative integers i<n,\n",
    "# print i(square).\n",
    "\n",
    "n = int(input())\n",
    "for i in range(0,n):\n",
    "    print(i*i)"
   ]
  },
  {
   "cell_type": "code",
   "execution_count": null,
   "id": "9174c4e5",
   "metadata": {},
   "outputs": [],
   "source": [
    "# Task\n",
    "\n",
    "# Given a year, determine whether it is a leap year. If it is a leap year, return the Boolean True,\n",
    "# otherwise return False.\n",
    "\n",
    "# Note that the code stub provided reads from STDIN and passes arguments to the is_leap function.\n",
    "# It is only necessary to complete the is_leap function.\n",
    "year = int(input())\n",
    "leap = False\n",
    "    \n",
    "if year%400==0:\n",
    "    leap = True\n",
    "elif year%100==0:\n",
    "    leap = False\n",
    "elif year%4==0:\n",
    "    leap = True\n",
    "else:\n",
    "    leap = False\n",
    "print(leap)\n",
    "#return leap"
   ]
  },
  {
   "cell_type": "code",
   "execution_count": null,
   "id": "b48b4c85",
   "metadata": {},
   "outputs": [],
   "source": [
    "# Task\n",
    "\n",
    "# The included code stub will read an integer,n , from STDIN.\n",
    "# Without using any string methods, try to print the following:\n",
    "# 123...n\n",
    "# Note that \"...\" represents the consecutive values in between.\n",
    "\n",
    "n = int(input())\n",
    "sample = ''\n",
    "for i in range(1,n+1):\n",
    "    sample = sample + str(i)\n",
    "print(sample)"
   ]
  },
  {
   "cell_type": "code",
   "execution_count": null,
   "id": "19ad9624",
   "metadata": {},
   "outputs": [],
   "source": [
    "# Task\n",
    "\n",
    "# You are given a string and your task is to swap cases. In other words, convert all lowercase letters\n",
    "# to uppercase letters and vice versa.\n",
    "\n",
    "# For Example:\n",
    "    \n",
    "# Www.HackerRank.com → wWW.hACKERrANK.COM\n",
    "# Pythonist 2 → pYTHONIST 2  \n",
    "\n",
    "def swap_case(s):\n",
    "    s = s.swapcase()\n",
    "    return s\n",
    "\n",
    "if __name__ == '__main__':\n",
    "    s = input()\n",
    "    result = swap_case(s)\n",
    "    print(result)"
   ]
  },
  {
   "cell_type": "code",
   "execution_count": null,
   "id": "a8a67b26",
   "metadata": {},
   "outputs": [],
   "source": [
    "# Task\n",
    "# You are given a string. Split the string on a \" \" (space) delimiter and join using a - hyphen.\n",
    "\n",
    "def split_and_join(line):\n",
    "    # write your code here\n",
    "    \n",
    "    b = line.split(' ')\n",
    "    c = '-'.join(b)\n",
    "    return c \n",
    "\n",
    "if __name__ == '__main__':\n",
    "    line = input()\n",
    "    result = split_and_join(line)\n",
    "    print(result)"
   ]
  },
  {
   "cell_type": "code",
   "execution_count": null,
   "id": "b00b0c4e",
   "metadata": {},
   "outputs": [],
   "source": [
    "# Task\n",
    "\n",
    "# You are given the firstname and lastname of a person on two different lines. Your task is to\n",
    "# read them and print the following:\n",
    "\n",
    "# Hello firstname lastname! You just delved into python.\n",
    "\n",
    "def print_full_name(first, last):\n",
    "    # Write your code here\n",
    "    print('Hello '+first+' '+last+'! You just delved into python.')\n",
    "if __name__ == '__main__':\n",
    "    first_name = input()\n",
    "    last_name = input()\n",
    "    print_full_name(first_name, last_name)"
   ]
  },
  {
   "cell_type": "code",
   "execution_count": null,
   "id": "928827f8",
   "metadata": {},
   "outputs": [],
   "source": [
    "# Task\n",
    "\n",
    "# Read a given string, change the character at a given index and then print the modified string.\n",
    "# Function Description\n",
    "\n",
    "# Complete the mutate_string function in the editor below.\n",
    "\n",
    "# mutate_string has the following parameters:\n",
    "\n",
    "# *string string: the string to change\n",
    "# *int position: the index to insert the character at\n",
    "# *string character: the character to insert\n",
    "# Returns\n",
    "\n",
    "# *string: the altered string\n",
    "\n",
    "def mutate_string(string, position, character):\n",
    "    str1 = string[:position]+character+string[position+1:]\n",
    "    return str1\n",
    "\n",
    "if __name__ == '__main__':\n",
    "    s = input()\n",
    "    i, c = input().split()\n",
    "    s_new = mutate_string(s, int(i), c)\n",
    "    print(s_new)"
   ]
  },
  {
   "cell_type": "code",
   "execution_count": null,
   "id": "9bdae21f",
   "metadata": {},
   "outputs": [],
   "source": [
    "# Task\n",
    "\n",
    "# In this challenge, the user enters a string and a substring. You have to print the number of times\n",
    "# that the substring occurs in the given string. String traversal will take place from left to right,\n",
    "# not from right to left.\n",
    "\n",
    "# NOTE: String letters are case-sensitive.\n",
    "\n",
    "# Input Format\n",
    "\n",
    "# The first line of input contains the original string. The next line contains the substring.\n",
    "\n",
    "# Each character in the string is an ascii character.\n",
    "\n",
    "# Output Format\n",
    "\n",
    "# Output the integer number indicating the total number of occurrences of the substring in the original\n",
    "# string.\n",
    "\n",
    "# Sample Input:\n",
    "\n",
    "# ABCDCDC\n",
    "# CDC\n",
    "# Sample Output:\n",
    "\n",
    "# 2\n",
    "\n",
    "string = input('enter string :- ')  # string = ABCDCDC\n",
    "sub_string = input('enter substring :- ') # sub_string = CDC\n",
    "count = 0\n",
    "for i in range(0,len(string)):  # i = \n",
    "    if sub_string == string[i:len(sub_string)+i]: # string[0:3] = ABCDCDC\n",
    "        count = count + 1\n",
    "print('Total sub_strings :-',count)\n",
    "\n"
   ]
  },
  {
   "cell_type": "code",
   "execution_count": null,
   "id": "d7120adf",
   "metadata": {},
   "outputs": [],
   "source": [
    "# Task\n",
    "\n",
    "# You are given a string S.\n",
    "# Your task is to find out if the string S contains: alphanumeric characters, alphabetical characters,\n",
    "# digits, lowercase and uppercase characters.\n",
    "\n",
    "if __name__ == '__main__':\n",
    "    s = input() \n",
    "count_alnum = False\n",
    "count_alpha = False\n",
    "count_digit = False\n",
    "count_lower = False\n",
    "count_upper = False\n",
    "for i in s: \n",
    "    if i.isalnum():\n",
    "        count_alnum = True\n",
    "    if i.isalpha():\n",
    "        count_alpha = True\n",
    "    if i.isdigit():\n",
    "        count_digit = True  \n",
    "    if i.islower():\n",
    "        count_lower = True  \n",
    "    if i.isupper():\n",
    "        count_upper = True  \n",
    "print(count_alnum) \n",
    "print(count_alpha) \n",
    "print(count_digit) \n",
    "print(count_lower) \n",
    "print(count_upper) \n"
   ]
  },
  {
   "cell_type": "code",
   "execution_count": 1,
   "id": "f005303a",
   "metadata": {},
   "outputs": [
    {
     "name": "stdout",
     "output_type": "stream",
     "text": [
      "5\n",
      "--------e--------\n",
      "------e-d-e------\n",
      "----e-d-c-d-e----\n",
      "--e-d-c-b-c-d-e--\n",
      "e-d-c-b-a-b-c-d-e\n",
      "--e-d-c-b-c-d-e--\n",
      "----e-d-c-d-e----\n",
      "------e-d-e------\n",
      "--------e--------\n",
      "\n"
     ]
    }
   ],
   "source": [
    "                                    # Alphabet Rangoli\n",
    "\n",
    "size = int(input())\n",
    "alphabets = ' abcdefghijklmnopqrstuvwxyz'\n",
    "str_len = (4 * size) - 3\n",
    "final_string = ''\n",
    "f_string = ''\n",
    "c = 10\n",
    "for i in range(1, size+1): #outer Loop, for lines\n",
    "    str1 = ''\n",
    "    I = size\n",
    "    for j in range(1,(i*2)): \n",
    "        str1 += alphabets [I] + '-'\n",
    "        if j < i:\n",
    "            I = I - 1\n",
    "        else:\n",
    "            I = I + 1\n",
    "    final_string += (str1.strip('-')).center(str_len,'-') + '\\n'\n",
    "# print(final_string)\n",
    "for i in range(size-1,0,-1): #outer Loop, for lines\n",
    "    str1 = ''\n",
    "    I = size\n",
    "    for j in range(1,(i*2)): \n",
    "        str1 += alphabets [I] + '-'\n",
    "        if j < i:\n",
    "            I = I - 1\n",
    "        else:\n",
    "            I = I + 1\n",
    "    final_string += (str1.strip('-')).center(str_len,'-') + '\\n'\n",
    "print (final_string)\n"
   ]
  },
  {
   "cell_type": "code",
   "execution_count": 11,
   "id": "99aa080f",
   "metadata": {},
   "outputs": [
    {
     "name": "stdout",
     "output_type": "stream",
     "text": [
      "[[50, 'Mawer'], [50, 'Rachel'], [50, 'Sheen'], [51, 'Shaheen']]\n",
      "[[50, 'Mawer'], [51, 'Shaheen']]\n",
      "[[51, 'Shaheen']]\n",
      "[['Shaheen', 51]]\n",
      "[['Shaheen', 51]]\n",
      "Shaheen\n"
     ]
    }
   ],
   "source": [
    "# Task\n",
    "# Given the names and grades for each student in a class N of  students, store them in a nested list\n",
    "# and print the name(s) of any student(s) having the second lowest grade.\n",
    "\n",
    "# Note: If there are multiple students with the second lowest grade, order their names alphabetically\n",
    "# and print each name on a new line.\n",
    "\n",
    "\n",
    "# list1 = [['yug',8.6],['neha',16.8],['beta',16.8],['alpha',16.8],['alpha2',16.8],['alpha',123.3]]\n",
    "\n",
    "# Harsh\n",
    "# 20\n",
    "# Beria\n",
    "# 20\n",
    "# Varun\n",
    "# 19\n",
    "# Kakunami\n",
    "# 19\n",
    "# Vikas\n",
    "# 21\n",
    "# list1 =[['harsh',20],['Beria',20],['Varun',19],['Kakunami',19],['Vikas',21]]\n",
    "# Rachel\n",
    "# -50\n",
    "# Mawer\n",
    "# -50\n",
    "# Sheen\n",
    "# -50\n",
    "# Shaheen\n",
    "# 51\n",
    "list1 = [['Rachel',50],['Mawer',50],['Sheen',50],['Shaheen',51]]\n",
    "temp = []\n",
    "for i in list1:\n",
    "    i.reverse()\n",
    "    temp.append(i)\n",
    "temp.sort()\n",
    "print(temp)\n",
    "\n",
    "for j in range(1,len(temp)): \n",
    "    if temp[0][0] == temp[1][0]: \n",
    "        temp.remove(temp[1])      \n",
    "    else:\n",
    "        break\n",
    "print(temp)\n",
    "s=2\n",
    "c=0\n",
    "list2 = []\n",
    "for j in range(1,len(temp)): # j = 1,2,3,4,\n",
    "    if j == 1:\n",
    "        list2.append(temp[j])\n",
    "    else:\n",
    "        if temp[1][0] == temp[s][0]: # s = 2,3,4\n",
    "            list2.insert(j,temp[j])\n",
    "            s = s+1        \n",
    "        else:\n",
    "            break\n",
    "print(list2)\n",
    "list3 = []\n",
    "for i in list2:\n",
    "    i.reverse()\n",
    "    list3.append(i)\n",
    "print(list2)\n",
    "list2.sort()\n",
    "print(list2)\n",
    "for i in list2:\n",
    "    print(i[0])\n",
    "# list2 = dict(list2)\n",
    "# print(list2)\n",
    "# for key in list2.keys():\n",
    "#     print(key)\n"
   ]
  },
  {
   "cell_type": "code",
   "execution_count": 6,
   "id": "85c29aec",
   "metadata": {},
   "outputs": [
    {
     "name": "stdout",
     "output_type": "stream",
     "text": [
      "5\n",
      "2 3 6 6 5\n",
      "{2, 3, 5, 6}\n",
      "5\n"
     ]
    }
   ],
   "source": [
    "\n",
    "\n",
    "n = int(input())\n",
    "arr = map(int, input().split())\n",
    "list_arr = list(arr)\n",
    "set_arr = set(list_arr)\n",
    "print(set_arr)\n",
    "again_list = list(set_arr)\n",
    "again_list.sort()\n",
    "print(again_list[-2])\n",
    "    "
   ]
  },
  {
   "cell_type": "code",
   "execution_count": 32,
   "id": "3e16424e",
   "metadata": {},
   "outputs": [
    {
     "name": "stdout",
     "output_type": "stream",
     "text": [
      "3\n",
      "yug \n",
      "1\n",
      "yug2\n",
      "3\n"
     ]
    },
    {
     "ename": "KeyError",
     "evalue": "'3'",
     "output_type": "error",
     "traceback": [
      "\u001b[1;31m---------------------------------------------------------------------------\u001b[0m",
      "\u001b[1;31mKeyError\u001b[0m                                  Traceback (most recent call last)",
      "Input \u001b[1;32mIn [32]\u001b[0m, in \u001b[0;36m<cell line: 8>\u001b[1;34m()\u001b[0m\n\u001b[0;32m      6\u001b[0m     student_marks[name] \u001b[38;5;241m=\u001b[39m scores\n\u001b[0;32m      7\u001b[0m query_name \u001b[38;5;241m=\u001b[39m \u001b[38;5;28minput\u001b[39m()\n\u001b[1;32m----> 8\u001b[0m std_name \u001b[38;5;241m=\u001b[39m \u001b[43mstudent_marks\u001b[49m\u001b[43m[\u001b[49m\u001b[43mquery_name\u001b[49m\u001b[43m]\u001b[49m\n\u001b[0;32m      9\u001b[0m Total \u001b[38;5;241m=\u001b[39m \u001b[38;5;241m0\u001b[39m\n\u001b[0;32m     10\u001b[0m \u001b[38;5;28;01mfor\u001b[39;00m values \u001b[38;5;129;01min\u001b[39;00m std_name:\n",
      "\u001b[1;31mKeyError\u001b[0m: '3'"
     ]
    }
   ],
   "source": [
    "n = int(input())\n",
    "student_marks = {}\n",
    "for _ in range(n):\n",
    "    name, *line = input().split()\n",
    "    scores = list(map(float, line))\n",
    "    student_marks[name] = scores\n",
    "query_name = input()\n",
    "std_name = student_marks[query_name]\n",
    "Total = 0\n",
    "for values in std_name:\n",
    "    Total += values\n",
    "avg = Total/len(std_name)\n",
    "print(avg)\n",
    "num = \"{:.2f}\".format(avg)\n",
    "n1 = []\n",
    "n1.append(num)\n",
    "print(n1)\n",
    "for i in n1:\n",
    "    pass\n",
    "print(i)\n"
   ]
  },
  {
   "cell_type": "code",
   "execution_count": 38,
   "id": "a1a30e03",
   "metadata": {},
   "outputs": [
    {
     "name": "stdout",
     "output_type": "stream",
     "text": [
      "3\n",
      "uk\n",
      "canada\n",
      "uk\n",
      "['uk', 'canada', 'uk']\n",
      "{'canada', 'uk'}\n",
      "2\n"
     ]
    }
   ],
   "source": [
    "# Task\n",
    "\n",
    "# Apply your knowledge of the .add() operation to help your friend Rupal.\n",
    "\n",
    "# Rupal has a huge collection of country stamps. She decided to count the total number of distinct country stamps in her collection. She asked for your help. You pick the stamps one by one from a stack of  country stamps.\n",
    "\n",
    "# Find the total number of distinct country stamps.\n",
    "\n",
    "# Input Format\n",
    "\n",
    "# The first line contains an integer N , the total number of country stamps.\n",
    "# The next N lines contains the name of the country where the stamp is from.\n",
    "N = int(input())\n",
    "l = []\n",
    "for i in range(N):\n",
    "    string = input()\n",
    "    l.append(string)\n",
    "set1 = set(l)\n",
    "print(len(set1))\n",
    "\n",
    "\n",
    "    \n",
    "\n"
   ]
  },
  {
   "cell_type": "code",
   "execution_count": 35,
   "id": "a209eebb",
   "metadata": {},
   "outputs": [
    {
     "name": "stdout",
     "output_type": "stream",
     "text": [
      "3\n",
      "uk\n",
      "uk\n",
      "canada\n",
      "canada\n",
      "uk\n",
      "uk\n"
     ]
    }
   ],
   "source": [
    "N = int(input())\n",
    "for i in range(N):\n",
    "    string = input()\n",
    "    print(string)"
   ]
  },
  {
   "cell_type": "code",
   "execution_count": 50,
   "id": "d8d3839c",
   "metadata": {},
   "outputs": [
    {
     "name": "stdout",
     "output_type": "stream",
     "text": [
      "-1\n",
      "f\n"
     ]
    }
   ],
   "source": [
    "string = 'yug jfiojf'\n",
    "x = string.find('   ')\n",
    "print(x)\n",
    "str1 = string[x:]\n",
    "print(str1)\n"
   ]
  },
  {
   "cell_type": "code",
   "execution_count": null,
   "id": "abc04d52",
   "metadata": {},
   "outputs": [],
   "source": [
    "n = int(input())\n",
    "s = set(map(int, input().split()))\n",
    "N = int(input())   # no of commands\n",
    "l = []\n",
    "print(s)\n",
    "for comand in range(N):\n",
    "    string = input()   # comands\n",
    "    l.append(string)\n",
    "print(l)\n",
    "str1 = ''\n",
    "for i in l:\n",
    "    if ' ' in i:\n",
    "        str1 = str1 + str(i[-1])\n",
    "    else:\n",
    "        pass\n",
    "print(str1)\n",
    "temp = []\n",
    "for comand in l:\n",
    "    if comand == 'pop':\n",
    "        temp.append(comand)\n",
    "    else:\n",
    "        x = comand.find(' ')\n",
    "        sl = str(comand[0:x])\n",
    "        temp.append(sl)\n",
    "print(temp)\n",
    "count = 0\n",
    "for c_name in temp:\n",
    "    if c_name == 'pop':\n",
    "        s.c_name()\n",
    "    else:\n",
    "        s.c_name(str1[count])\n",
    "        count = count + 1\n",
    "print(s)\n",
    "        "
   ]
  },
  {
   "cell_type": "code",
   "execution_count": 53,
   "id": "8b5bef34",
   "metadata": {},
   "outputs": [
    {
     "name": "stdout",
     "output_type": "stream",
     "text": [
      "o\n"
     ]
    }
   ],
   "source": [
    "list1 = ['pop','remove 9']\n",
    "print(list1[1][3])"
   ]
  },
  {
   "cell_type": "code",
   "execution_count": 88,
   "id": "4feba74b",
   "metadata": {},
   "outputs": [
    {
     "name": "stdout",
     "output_type": "stream",
     "text": [
      "['pop', 'remove (\"9\")', 'discard (\"9\")', 'discard (\"9\")', 'remove (\"9\")', 'pop', 'discard (\"9\")', 'remove (\"9\")', 'pop', 'discard (\"9\")']\n",
      "['discard(\"9\")']\n"
     ]
    },
    {
     "ename": "AttributeError",
     "evalue": "'set' object has no attribute 'l1'",
     "output_type": "error",
     "traceback": [
      "\u001b[1;31m---------------------------------------------------------------------------\u001b[0m",
      "\u001b[1;31mAttributeError\u001b[0m                            Traceback (most recent call last)",
      "Input \u001b[1;32mIn [88]\u001b[0m, in \u001b[0;36m<cell line: 13>\u001b[1;34m()\u001b[0m\n\u001b[0;32m     11\u001b[0m l1 \u001b[38;5;241m=\u001b[39m [i]\n\u001b[0;32m     12\u001b[0m \u001b[38;5;28mprint\u001b[39m(l1)\n\u001b[1;32m---> 13\u001b[0m \u001b[43mset1\u001b[49m\u001b[38;5;241;43m.\u001b[39;49m\u001b[43ml1\u001b[49m[\u001b[38;5;241m0\u001b[39m]\n",
      "\u001b[1;31mAttributeError\u001b[0m: 'set' object has no attribute 'l1'"
     ]
    }
   ],
   "source": [
    "list1 = ['pop', 'remove 9', 'discard 9', 'discard 8', 'remove 7', 'pop', 'discard 6', 'remove 5', 'pop', 'discard 5']\n",
    "list2 = []\n",
    "for com in list1:\n",
    "    if com == 'pop':\n",
    "        list2.append(com)\n",
    "    else:\n",
    "        list2.append(com.replace(com[-1],'(\"9\")'))\n",
    "print(list2)\n",
    "set1 = {1,2,3,4,5,6,7,8,9,0}\n",
    "i = 'discard(\"9\")'\n",
    "l1 = [i]\n",
    "print(l1)\n",
    "set1.l1[0]\n",
    "# for i in list2:\n",
    "#     print(i)\n",
    "#     if i == 'pop':\n",
    "#         set1.i()\n",
    "#     else:\n",
    "#         set1.i\n",
    "        "
   ]
  },
  {
   "cell_type": "code",
   "execution_count": 89,
   "id": "f4e51a81",
   "metadata": {},
   "outputs": [
    {
     "ename": "AttributeError",
     "evalue": "'set' object has no attribute 'yug'",
     "output_type": "error",
     "traceback": [
      "\u001b[1;31m---------------------------------------------------------------------------\u001b[0m",
      "\u001b[1;31mAttributeError\u001b[0m                            Traceback (most recent call last)",
      "Input \u001b[1;32mIn [89]\u001b[0m, in \u001b[0;36m<cell line: 3>\u001b[1;34m()\u001b[0m\n\u001b[0;32m      1\u001b[0m set1 \u001b[38;5;241m=\u001b[39m {\u001b[38;5;241m1\u001b[39m,\u001b[38;5;241m2\u001b[39m,\u001b[38;5;241m3\u001b[39m,\u001b[38;5;241m4\u001b[39m,\u001b[38;5;241m5\u001b[39m}\n\u001b[0;32m      2\u001b[0m yug \u001b[38;5;241m=\u001b[39m \u001b[38;5;124m'\u001b[39m\u001b[38;5;124mpop\u001b[39m\u001b[38;5;124m'\u001b[39m\n\u001b[1;32m----> 3\u001b[0m \u001b[43mset1\u001b[49m\u001b[38;5;241;43m.\u001b[39;49m\u001b[43myug\u001b[49m()\n",
      "\u001b[1;31mAttributeError\u001b[0m: 'set' object has no attribute 'yug'"
     ]
    }
   ],
   "source": [
    "set1 = {1,2,3,4,5}\n",
    "yug = 'pop'\n",
    "set1.yug()\n"
   ]
  },
  {
   "cell_type": "code",
   "execution_count": 3,
   "id": "ed3c3cab",
   "metadata": {},
   "outputs": [
    {
     "name": "stdout",
     "output_type": "stream",
     "text": [
      "abcd\n",
      "efgh\n",
      "ijkl\n",
      "mnop\n",
      "qrst\n",
      "uvwx\n",
      "yz\n",
      "\n"
     ]
    }
   ],
   "source": [
    "# Task\n",
    "# text-wrap\n",
    "# Sample Input:\n",
    "\n",
    "# ABCDEFGHIJKLIMNOQRSTUVWXYZ\n",
    "# 4\n",
    "\n",
    "# Sample Output:\n",
    "# ABCD\n",
    "# EFGH\n",
    "# IJKL\n",
    "# IMNO\n",
    "# QRST\n",
    "# UVWX\n",
    "# YZ\n",
    "\n",
    "string = 'abcdefghijklmnopqrstuvwxyz'\n",
    "max_width = 4\n",
    "final = ''\n",
    "j = 0\n",
    "for i in range(1,len(string)//max_width + 2):\n",
    "    final = final + string[j:max_width*i] + '\\n'\n",
    "    j = j + max_width\n",
    "print(final)"
   ]
  },
  {
   "cell_type": "code",
   "execution_count": 2,
   "id": "37610a8f",
   "metadata": {},
   "outputs": [
    {
     "name": "stdout",
     "output_type": "stream",
     "text": [
      "fkugsafugeufgugfugwefugwefgyubashcuijkcweg cuiwehuiweuifhuwefgyuwegfygecuhecuegcuigewfjyajucajbewucuehcuihfewgfuysgfuwefuweghecuiehcefuihaiucweucuehnuiciifeuihha jcioeioejc ekfsdfforjd fjyughygioejfiwceciowe cijweichwejkcwehciwehfiojecksdcineckhdgioudvnisdcksdciodkiokfeiwofhjechiecjshcsnciejcikewjfiochecinecihkjhweihwe8iwehckiwehcpoiqwejpiwqecp;hicqiwe i23ini9nc32in cini93iosdfweifihekf wehfjkwefhweiwkjech89wecwencnioefn euvwb efhwehwefhiwecbkwjecnweiochu\n",
      "6\n",
      "[' ', ' ', ' ', ' ', ' ', ' ', ' ', ' ', ' ', ' ', '2', '2', '3', '3', '3', '8', '8', '9', '9', '9', ';', 'a', 'a', 'a', 'a', 'a', 'a', 'b', 'b', 'b', 'b', 'c', 'c', 'c', 'c', 'c', 'c', 'c', 'c', 'c', 'c', 'c', 'c', 'c', 'c', 'c', 'c', 'c', 'c', 'c', 'c', 'c', 'c', 'c', 'c', 'c', 'c', 'c', 'c', 'c', 'c', 'c', 'c', 'c', 'c', 'c', 'c', 'c', 'c', 'c', 'c', 'c', 'c', 'c', 'c', 'c', 'c', 'c', 'd', 'd', 'd', 'd', 'd', 'd', 'd', 'd', 'd', 'e', 'e', 'e', 'e', 'e', 'e', 'e', 'e', 'e', 'e', 'e', 'e', 'e', 'e', 'e', 'e', 'e', 'e', 'e', 'e', 'e', 'e', 'e', 'e', 'e', 'e', 'e', 'e', 'e', 'e', 'e', 'e', 'e', 'e', 'e', 'e', 'e', 'e', 'e', 'e', 'e', 'e', 'e', 'e', 'e', 'e', 'e', 'e', 'e', 'e', 'e', 'e', 'e', 'e', 'e', 'e', 'e', 'e', 'e', 'e', 'e', 'e', 'e', 'e', 'e', 'f', 'f', 'f', 'f', 'f', 'f', 'f', 'f', 'f', 'f', 'f', 'f', 'f', 'f', 'f', 'f', 'f', 'f', 'f', 'f', 'f', 'f', 'f', 'f', 'f', 'f', 'f', 'f', 'f', 'f', 'f', 'f', 'f', 'g', 'g', 'g', 'g', 'g', 'g', 'g', 'g', 'g', 'g', 'g', 'g', 'g', 'g', 'g', 'g', 'g', 'g', 'g', 'h', 'h', 'h', 'h', 'h', 'h', 'h', 'h', 'h', 'h', 'h', 'h', 'h', 'h', 'h', 'h', 'h', 'h', 'h', 'h', 'h', 'h', 'h', 'h', 'h', 'h', 'h', 'h', 'h', 'h', 'h', 'h', 'h', 'h', 'h', 'i', 'i', 'i', 'i', 'i', 'i', 'i', 'i', 'i', 'i', 'i', 'i', 'i', 'i', 'i', 'i', 'i', 'i', 'i', 'i', 'i', 'i', 'i', 'i', 'i', 'i', 'i', 'i', 'i', 'i', 'i', 'i', 'i', 'i', 'i', 'i', 'i', 'i', 'i', 'i', 'i', 'i', 'i', 'i', 'i', 'i', 'i', 'i', 'i', 'i', 'i', 'i', 'i', 'i', 'j', 'j', 'j', 'j', 'j', 'j', 'j', 'j', 'j', 'j', 'j', 'j', 'j', 'j', 'j', 'j', 'j', 'j', 'j', 'j', 'j', 'k', 'k', 'k', 'k', 'k', 'k', 'k', 'k', 'k', 'k', 'k', 'k', 'k', 'k', 'k', 'k', 'n', 'n', 'n', 'n', 'n', 'n', 'n', 'n', 'n', 'n', 'n', 'n', 'n', 'o', 'o', 'o', 'o', 'o', 'o', 'o', 'o', 'o', 'o', 'o', 'o', 'o', 'o', 'o', 'p', 'p', 'p', 'q', 'q', 'q', 'r', 's', 's', 's', 's', 's', 's', 's', 's', 's', 's', 'u', 'u', 'u', 'u', 'u', 'u', 'u', 'u', 'u', 'u', 'u', 'u', 'u', 'u', 'u', 'u', 'u', 'u', 'u', 'u', 'u', 'u', 'u', 'u', 'u', 'u', 'u', 'u', 'u', 'u', 'u', 'u', 'u', 'u', 'v', 'v', 'w', 'w', 'w', 'w', 'w', 'w', 'w', 'w', 'w', 'w', 'w', 'w', 'w', 'w', 'w', 'w', 'w', 'w', 'w', 'w', 'w', 'w', 'w', 'w', 'w', 'w', 'w', 'w', 'w', 'w', 'w', 'w', 'w', 'w', 'w', 'w', 'w', 'w', 'w', 'w', 'w', 'y', 'y', 'y', 'y', 'y', 'y', 'y']\n",
      "  10\n",
      "2 2\n",
      "3 3\n",
      "8 2\n",
      "9 3\n",
      "; 1\n",
      "a 6\n",
      "b 4\n",
      "c 47\n",
      "d 9\n",
      "e 65\n",
      "f 33\n",
      "g 19\n",
      "h 35\n",
      "i 54\n",
      "j 21\n",
      "k 16\n",
      "n 13\n",
      "o 15\n",
      "p 3\n",
      "q 3\n",
      "r 1\n",
      "s 10\n",
      "u 34\n",
      "v 2\n",
      "w 41\n",
      "y 7\n",
      "[['e', 65], ['i', 54], ['c', 47], ['w', 41], ['h', 35], ['u', 34], ['f', 33], ['j', 21], ['g', 19], ['k', 16], ['o', 15], ['n', 13], [' ', 10], ['s', 10], ['d', 9], ['y', 7], ['a', 6], ['b', 4], ['3', 3], ['9', 3], ['p', 3], ['q', 3], ['2', 2], ['8', 2], ['v', 2], [';', 1], ['r', 1]]\n",
      "[['e', 65], ['i', 54], ['c', 47]]\n",
      "e 65\n",
      "i 54\n",
      "c 47\n"
     ]
    }
   ],
   "source": [
    "# Task\n",
    "\n",
    "# A newly opened multinational brand has decided to base their company logo on the three most common characters in the company name. They are now trying out various combinations of company names and logos based on this condition. Given a string , which is the company name in lowercase letters, your task is to find the top three most common characters in the string.\n",
    "\n",
    "# Print the three most common characters along with their occurrence count.\n",
    "# Sort in descending order of occurrence count.\n",
    "# If the occurrence count is the same, sort the characters in alphabetical order.\n",
    "\n",
    "s = input()\n",
    "# s = 'cdabbaacadd'\n",
    "\n",
    "list1 = list(s)\n",
    "list1.sort()\n",
    "print(list1)\n",
    "temp = ''\n",
    "list2 = []\n",
    "for i in list1:\n",
    "    if i not in temp:\n",
    "        list1.count(i)\n",
    "        print(i,list1.count(i))\n",
    "        list2.append([i,list1.count(i)])\n",
    "        temp = temp + i\n",
    "    else:\n",
    "        continue\n",
    "# print(list2)\n",
    "\n",
    "for i in range(len(list2)):\n",
    "    for j in range(len(list2)-1):\n",
    "        if list2[j][1] < list2[j+1][1]:\n",
    "            list2[j], list2[j+1] = list2[j+1], list2[j]\n",
    "print(list2)\n",
    "del list2[3:]\n",
    "print(list2)\n",
    "for (i,j) in list2:\n",
    "    print(i,j)"
   ]
  },
  {
   "cell_type": "code",
   "execution_count": null,
   "id": "3e133700",
   "metadata": {},
   "outputs": [],
   "source": []
  }
 ],
 "metadata": {
  "kernelspec": {
   "display_name": "Python 3 (ipykernel)",
   "language": "python",
   "name": "python3"
  },
  "language_info": {
   "codemirror_mode": {
    "name": "ipython",
    "version": 3
   },
   "file_extension": ".py",
   "mimetype": "text/x-python",
   "name": "python",
   "nbconvert_exporter": "python",
   "pygments_lexer": "ipython3",
   "version": "3.9.12"
  },
  "vscode": {
   "interpreter": {
    "hash": "369f2c481f4da34e4445cda3fffd2e751bd1c4d706f27375911949ba6bb62e1c"
   }
  }
 },
 "nbformat": 4,
 "nbformat_minor": 5
}
