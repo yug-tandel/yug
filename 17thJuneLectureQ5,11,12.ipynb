{
 "cells": [
  {
   "cell_type": "code",
   "execution_count": null,
   "id": "25bf6f97",
   "metadata": {},
   "outputs": [],
   "source": [
    "# What is the purpose of continue statement in python?\n",
    "# --> The continue keyword is used to end the current iteration in a for loop \n",
    "# (or a while loop), and continues to the next iteration."
   ]
  },
  {
   "cell_type": "code",
   "execution_count": 3,
   "id": "f1dc2248",
   "metadata": {},
   "outputs": [
    {
     "name": "stdout",
     "output_type": "stream",
     "text": [
      "yug\n",
      "no of character =  3\n"
     ]
    }
   ],
   "source": [
    "# Write a python program to calculate the character of a string\n",
    "string1 = str(input())\n",
    "count = 0\n",
    "for i in string1:\n",
    "    count = count + 1\n",
    "print('no of characters = ',count)\n",
    "    "
   ]
  },
  {
   "cell_type": "code",
   "execution_count": 5,
   "id": "acb7c80f",
   "metadata": {},
   "outputs": [
    {
     "name": "stdout",
     "output_type": "stream",
     "text": [
      "yugtandel\n",
      "length of a string = 9\n"
     ]
    }
   ],
   "source": [
    "# Write a python program to find the length of a string.\n",
    "string1 = str(input())\n",
    "length = 0\n",
    "for i in string1:\n",
    "    length = length + 1\n",
    "print('length of a string =',length)\n",
    "\n"
   ]
  }
 ],
 "metadata": {
  "kernelspec": {
   "display_name": "Python 3 (ipykernel)",
   "language": "python",
   "name": "python3"
  },
  "language_info": {
   "codemirror_mode": {
    "name": "ipython",
    "version": 3
   },
   "file_extension": ".py",
   "mimetype": "text/x-python",
   "name": "python",
   "nbconvert_exporter": "python",
   "pygments_lexer": "ipython3",
   "version": "3.9.12"
  }
 },
 "nbformat": 4,
 "nbformat_minor": 5
}
