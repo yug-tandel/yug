{
 "cells": [
  {
   "cell_type": "code",
   "execution_count": null,
   "id": "3f18411f",
   "metadata": {},
   "outputs": [],
   "source": [
    "# Find prime number\n",
    "print('Enter a number')\n",
    "a = int(input())\n",
    "count = 0\n",
    "for i in range(1,a+1,1):\n",
    "    if a%i==0:\n",
    "        count = count + 1\n",
    "if count==2:\n",
    "    print(\"prime number\")\n",
    "else:\n",
    "    print('non prime')\n",
    "        \n",
    "    "
   ]
  },
  {
   "cell_type": "code",
   "execution_count": 12,
   "id": "a584c5b9",
   "metadata": {},
   "outputs": [
    {
     "name": "stdout",
     "output_type": "stream",
     "text": [
      "Enter a number\n",
      "169\n",
      "non prime\n"
     ]
    }
   ],
   "source": [
    "# Prime number second method\n",
    "print('Enter a number')\n",
    "a = int(input())\n",
    "factors=0\n",
    "for i in range(2,a,1):\n",
    "    if a%1==0 and a%a==0 and a%i==0:\n",
    "        factors = 3\n",
    "        \n",
    "if factors==3:\n",
    "    print('non prime')\n",
    "else:\n",
    "    print('prime')\n",
    "    "
   ]
  },
  {
   "cell_type": "code",
   "execution_count": 3,
   "id": "f7973b23",
   "metadata": {},
   "outputs": [
    {
     "name": "stdout",
     "output_type": "stream",
     "text": [
      "Enter a number from 1 to 10\n",
      "13\n",
      "please enter valid number\n"
     ]
    }
   ],
   "source": [
    "# Write a python program to get the factorial number of given number.\n",
    "print('Enter a number from 1 to 10')\n",
    "number = int(input())\n",
    "fact = 1\n",
    "if number>=1 and number<=10:\n",
    "    for i in range(1,number+1,1):\n",
    "        fact = fact * i\n",
    "    print(fact) \n",
    "else:\n",
    "    print('please enter valid number')\n",
    "    "
   ]
  },
  {
   "cell_type": "code",
   "execution_count": null,
   "id": "e04c5f23",
   "metadata": {},
   "outputs": [],
   "source": [
    "# Write a program to get the fabonacci series of given range\n",
    "print('Enter the range')\n",
    "limit = int(input())\n",
    "a=0\n",
    "b=1\n",
    "c=0\n",
    "for i in range(1,limit+1,1):\n",
    "    print(a,end='  ')\n",
    "    c = a + b\n",
    "    a = b\n",
    "    b = c"
   ]
  },
  {
   "cell_type": "code",
   "execution_count": null,
   "id": "869cb398",
   "metadata": {},
   "outputs": [],
   "source": [
    "#Q6 Write a program that swap two number with temp variable and without temp variable\n",
    "# Using temp variable\n",
    "a=5\n",
    "b=10\n",
    "temp=0\n",
    "print('before swaping')\n",
    "print('a =',a)\n",
    "print('b =',b)\n",
    "\n",
    "temp=a\n",
    "a=b\n",
    "b=temp\n",
    "print('after swaping')\n",
    "print('a =',a)\n",
    "print('b =',b)\n",
    "\n"
   ]
  },
  {
   "cell_type": "code",
   "execution_count": null,
   "id": "3fcf613c",
   "metadata": {},
   "outputs": [],
   "source": [
    "# without using temp variable\n",
    "a=5\n",
    "b=10\n",
    "print('before swaping')\n",
    "print('a =',a)\n",
    "print('b =',b)\n",
    "\n",
    "\n",
    "a=a+b # a = 5+10 = 15\n",
    "b=a-b # b = 15-10 = 5\n",
    "a=a-b # a = 15-5 = 5\n",
    "print('after swaping')\n",
    "print('a =',a)\n",
    "print('b =',b)"
   ]
  },
  {
   "cell_type": "code",
   "execution_count": null,
   "id": "9acd2dcc",
   "metadata": {},
   "outputs": [],
   "source": [
    "#Q7 Write a program to find whether a given number is even or odd, print out an \n",
    "# appropriate message to the user\n",
    "print('Enter a number')\n",
    "a = int(input())\n",
    "if a==0:\n",
    "    print('zero')\n",
    "elif a%2==0:\n",
    "    print('even')\n",
    "else:\n",
    "    print('odd')\n",
    "    \n"
   ]
  },
  {
   "cell_type": "code",
   "execution_count": null,
   "id": "818216d5",
   "metadata": {},
   "outputs": [],
   "source": [
    "#9 Write a Python program to sum of three given integers. However, if two values\n",
    "# are equal sum will be zero\n",
    "print('Enter 3 values')\n",
    "a = int(input())\n",
    "b = int(input())\n",
    "c = int(input())\n",
    "\n",
    "if a==b or a==c:\n",
    "    print('sum = 0')\n",
    "elif b==a or b==c:\n",
    "    print('sum = 0')\n",
    "elif c==a or c==b:\n",
    "    print('sum = 0')\n",
    "else:\n",
    "    print('sum =',a+b+c)"
   ]
  },
  {
   "cell_type": "code",
   "execution_count": null,
   "id": "fc4fc40c",
   "metadata": {},
   "outputs": [],
   "source": [
    "#Q10 Write a Python program that will return true if the two given integer values\n",
    "# are equal or their sum or difference is 5\n",
    "\n",
    "print('Enter 2 values')\n",
    "a = int(input())\n",
    "b = int(input())\n",
    "\n",
    "if a==b or a+b==5 or a-b==5 or b-a==5:\n",
    "    print(\"true\")"
   ]
  },
  {
   "cell_type": "code",
   "execution_count": null,
   "id": "50ea9d00",
   "metadata": {},
   "outputs": [],
   "source": [
    "#Q11 Write a python program to sum of the first n positive integers.\n",
    "print('enter n')\n",
    "n = int(input())\n",
    "sum=0\n",
    "for i in range(1,n+1):\n",
    "    sum = sum + i\n",
    "print(sum)\n",
    "    "
   ]
  },
  {
   "cell_type": "code",
   "execution_count": null,
   "id": "131b2ada",
   "metadata": {},
   "outputs": [],
   "source": []
  }
 ],
 "metadata": {
  "kernelspec": {
   "display_name": "Python 3 (ipykernel)",
   "language": "python",
   "name": "python3"
  },
  "language_info": {
   "codemirror_mode": {
    "name": "ipython",
    "version": 3
   },
   "file_extension": ".py",
   "mimetype": "text/x-python",
   "name": "python",
   "nbconvert_exporter": "python",
   "pygments_lexer": "ipython3",
   "version": "3.9.12"
  }
 },
 "nbformat": 4,
 "nbformat_minor": 5
}
