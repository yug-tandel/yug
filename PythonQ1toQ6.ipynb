{
 "cells": [
  {
   "cell_type": "code",
   "execution_count": null,
   "id": "615ebe27",
   "metadata": {},
   "outputs": [],
   "source": [
    "#QB1.What is python, name some of the features of python.\n",
    "#--> Python is a dynamic, high level, free open source and\n",
    "#interpreted programming language. It supports object-oriented\n",
    "#programming as well as procedural oriented programming. In Python,\n",
    "#we don't need to declare the type of variable because it is a \n",
    "#dynamically typed language."
   ]
  },
  {
   "cell_type": "code",
   "execution_count": null,
   "id": "d44d8ba7",
   "metadata": {},
   "outputs": [],
   "source": [
    "#QB2.Write a Python program to get the puthon version you are using."
   ]
  },
  {
   "cell_type": "code",
   "execution_count": null,
   "id": "0908ad16",
   "metadata": {},
   "outputs": [],
   "source": [
    "#QB3.Is python the right choice for Web base Programming?\n",
    "#-->Python programming yields an advantage over other programming languages\n",
    "#when it comes to highly functional programming, which is a must-have for\n",
    "#websites and applications in 2021. With its ongoing development, Python is the \n",
    "#perfect language to cover the challenges that businesses face every new day."
   ]
  },
  {
   "cell_type": "code",
   "execution_count": null,
   "id": "24bbed8c",
   "metadata": {},
   "outputs": [],
   "source": [
    "#QB4.Why was python called as Python?\n",
    "#-->When Guido van Rossum began implementing Python, he was also reading the \n",
    "#published scripts from “Monty Python's Flying Circus”, a BBC comedy series \n",
    "#from the 1970s. Van Rossum thought he needed a name that was short, unique, \n",
    "#and slightly mysterious, so he decided to call the language Python."
   ]
  },
  {
   "cell_type": "code",
   "execution_count": 3,
   "id": "d99ec3f9",
   "metadata": {},
   "outputs": [
    {
     "name": "stdout",
     "output_type": "stream",
     "text": [
      "Enter a number\n",
      "76456467\n",
      "positive\n"
     ]
    }
   ],
   "source": [
    "#QB5. Write a python program to check if a number is postive, negtive or zero.\n",
    "\n",
    "print('Enter a number')\n",
    "number = int(input())\n",
    "if number>0:\n",
    "    print('positive')\n",
    "elif number==0:\n",
    "    print('zero')\n",
    "elif number<0:\n",
    "    print('negative')"
   ]
  },
  {
   "cell_type": "code",
   "execution_count": null,
   "id": "d3d5cc99",
   "metadata": {},
   "outputs": [],
   "source": [
    "#QB6.What is the language from which python has got its features or derived\n",
    "#    its features?\n",
    "#--> Python is derived from many other languages, including ABC, Modula-3, C, \n",
    "# C++, Algol-68, SmallTalk, and Unix shell and other scripting languages."
   ]
  }
 ],
 "metadata": {
  "kernelspec": {
   "display_name": "Python 3 (ipykernel)",
   "language": "python",
   "name": "python3"
  },
  "language_info": {
   "codemirror_mode": {
    "name": "ipython",
    "version": 3
   },
   "file_extension": ".py",
   "mimetype": "text/x-python",
   "name": "python",
   "nbconvert_exporter": "python",
   "pygments_lexer": "ipython3",
   "version": "3.9.12"
  }
 },
 "nbformat": 4,
 "nbformat_minor": 5
}
