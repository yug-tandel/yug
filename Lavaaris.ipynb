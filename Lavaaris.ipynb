{
 "cells": [
  {
   "cell_type": "code",
   "execution_count": null,
   "id": "dcdad52b",
   "metadata": {},
   "outputs": [],
   "source": [
    "#Q17. Write a python program to check whether a list contains a sublist\n",
    "list1 = [1,2,3,4,'python',5,6,7,8,0]\n",
    "list2 = [3,4,'python',0,]\n",
    "count = 0\n",
    "for i in list2: # i = 3\n",
    "    if i in list1:\n",
    "        count = count + 1    # count = 1\n",
    "    else:\n",
    "        pass\n",
    "if count == len(list2):\n",
    "    print('yes list1 contain a sublist')\n",
    "else:\n",
    "    print('there is no sublist in list1')"
   ]
  },
  {
   "cell_type": "code",
   "execution_count": null,
   "id": "72793fa0",
   "metadata": {},
   "outputs": [],
   "source": [
    "#Q33. Write a Python script to sort(acending and decending) a dictionary  by value\n",
    "dictionary = {1:'one',2:'two',3:'three',4:'four',5:'five'}\n",
    "print('original dictionary = ',dictionary)\n",
    "list1 = list(dictionary.items())\n",
    "# list1 = [(1,'one'),(12,'mno'),(3,'three'),(4,'abc')]\n",
    "list2 = []\n",
    "for i in list1:\n",
    "    i = list(i)\n",
    "    i.reverse()\n",
    "#     print(i)\n",
    "    list2.insert(0,i)\n",
    "\n",
    "list2.reverse()\n",
    "# print(list2)\n",
    "list2.sort()\n",
    "# print(list2)\n",
    "\n",
    "count = 0\n",
    "list3 = []\n",
    "for i in list2:\n",
    "    i.reverse()\n",
    "    list3.insert(0,i)\n",
    "    count = count + 1    \n",
    "list3.reverse()   \n",
    "# print(list3)\n",
    "\n",
    "dictionary_2 = {}\n",
    "dictionary_2.update(list2)\n",
    "dictionary.clear()\n",
    "dictionary = dictionary_2.copy()\n",
    "print('Sorted dictionary  =  ',dictionary)\n",
    "# print(dictionary_2)"
   ]
  },
  {
   "cell_type": "code",
   "execution_count": null,
   "id": "e5569ffa",
   "metadata": {},
   "outputs": [],
   "source": [
    "# Q42. Write a python program to combine two dictionary adding values for common keys.\n",
    "# d1 = {'a':100,'b':200,'c':300}\n",
    "# d2 = {'a':300,'b':200,'d':400}\n",
    "# sample output:Counter({'a':400,'b':400,'d':400,'c':300})\n",
    "d1 = {'a':100,'b':200,'c':300}\n",
    "d2 = {'a':300,'b':200,'d':400}\n",
    "d3 = d1.copy()\n",
    "d1.update(d2)\n",
    "print(d1)\n",
    "print(d3)\n",
    "# new = list(d1) + list(d2)\n",
    "for key in d1: # key = 'a'\n",
    "    if key in d3:\n",
    "        d1[key] = d1[key] + d3[key]\n",
    "print(d1)\n",
    "# new = list(d1) + list(d2)\n",
    "# print(new)\n",
    "# print(d1['a'] + d2['a'])\n",
    "# for idx in new:\n",
    "#     if d1[idx] == d2[idx]:\n",
    "#         d1[idx] + d2[idx]\n",
    "#     else:\n",
    "#         continue\n"
   ]
  },
  {
   "cell_type": "code",
   "execution_count": null,
   "id": "60bfb35d",
   "metadata": {},
   "outputs": [],
   "source": [
    "num_list = [1,2,3,4,5,6,7,8,1,1,2,3,4,56,4,3,54]\n",
    "s = 0\n",
    "num_list.sort(reverse=True)\n",
    "print(num_list)\n",
    "print('largest number =',num_list[0])\n",
    "print('smallest number =',num_list[-1])\n",
    "for num in num_list:\n",
    "    s = s + num\n",
    "print('summation = ',s)"
   ]
  },
  {
   "cell_type": "code",
   "execution_count": null,
   "id": "1ee27537",
   "metadata": {},
   "outputs": [],
   "source": [
    "words_list = ['yug','python','orange','detol','mi-note11','longest-word','apple']\n",
    "min(words_list)"
   ]
  },
  {
   "cell_type": "code",
   "execution_count": null,
   "id": "0e5c55d8",
   "metadata": {},
   "outputs": [],
   "source": [
    "list1 = [1,2]\n",
    "list1.\n",
    "string = str(list1)\n",
    "print(string)\n",
    "print(type(string))"
   ]
  },
  {
   "cell_type": "code",
   "execution_count": null,
   "id": "c8c225d5",
   "metadata": {},
   "outputs": [],
   "source": [
    "list1 = [['yug',8.6],['alpha',16.8],['beta',16.8],['neha',16.8],['yug',16.8],['yug',123.3]]\n",
    "temp = []\n",
    "count = 0\n",
    "for i in list1:\n",
    "    i.reverse()\n",
    "    temp.insert(count,i)\n",
    "    count = count + 1\n",
    "# print(temp)\n",
    "temp.sort()\n",
    "print(temp)\n",
    "# d = {}\n",
    "# d.update(temp)\n",
    "# print(d)\n",
    "f=1\n",
    "s=2\n",
    "c=0\n",
    "list2 = []\n",
    "for j in range(1,len(temp)):    # j = 1,2,3,4\n",
    "#     if j == len(temp)-1:  #j == 3\n",
    "#             break\n",
    "    if temp[f]==temp[-1]:\n",
    "        list2.insert(c,temp[j])\n",
    "    else:\n",
    "        if temp[f][0] == temp[s][0]:   # 16.8 == 16.8\n",
    "            list2.insert(c,temp[j])\n",
    "        \n",
    "           \n",
    "        \n",
    "        else:\n",
    "            break\n",
    "            f = f+1\n",
    "            s = s+1\n",
    "            c = c+1\n",
    "    \n",
    "print(list2)\n",
    "    \n"
   ]
  },
  {
   "cell_type": "code",
   "execution_count": null,
   "id": "58282ff0",
   "metadata": {},
   "outputs": [],
   "source": []
  }
 ],
 "metadata": {
  "kernelspec": {
   "display_name": "Python 3 (ipykernel)",
   "language": "python",
   "name": "python3"
  },
  "language_info": {
   "codemirror_mode": {
    "name": "ipython",
    "version": 3
   },
   "file_extension": ".py",
   "mimetype": "text/x-python",
   "name": "python",
   "nbconvert_exporter": "python",
   "pygments_lexer": "ipython3",
   "version": "3.9.12"
  }
 },
 "nbformat": 4,
 "nbformat_minor": 5
}
