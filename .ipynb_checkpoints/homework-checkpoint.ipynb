{
 "cells": [
  {
   "cell_type": "code",
   "execution_count": null,
   "id": "60aaf2ae",
   "metadata": {},
   "outputs": [],
   "source": [
    "# homework pattern\n",
    "row = int(input('enter no of rows :-'))\n",
    "\n",
    "# for i in range (0,(row//2+1)):\n",
    "#     for j in range (0,(row//2-i)):\n",
    "#         print(end=' ')\n",
    "#     for k in range(0,i+1):\n",
    "#         print('*',end=' ')\n",
    "#     print()\n",
    "count = (row//2+1)\n",
    "for i in range((row//2+1),row):\n",
    "    for j in range(count+1,row):\n",
    "        print(end=' ')\n",
    "        count = count - 1\n",
    "    for k in range (i,row):\n",
    "        print('*',end=' ')\n",
    "    print()"
   ]
  },
  {
   "cell_type": "code",
   "execution_count": 7,
   "id": "2424bd9f",
   "metadata": {},
   "outputs": [
    {
     "name": "stdout",
     "output_type": "stream",
     "text": [
      "rank1 index :- 5\n",
      "rank2 index :- 6\n",
      "rank3 index :- 4\n",
      "last_rank index :- 9\n",
      "last_second_rank index :- 10\n"
     ]
    }
   ],
   "source": [
    "marks = [32,34,56,45,67,89,78,45,45,13,13]\n",
    "temp_marks = marks[:]\n",
    "temp_marks.sort()\n",
    "rank1 = temp_marks[-1]\n",
    "rank2 = temp_marks[-2]\n",
    "rank3 = temp_marks[-3]\n",
    "last_rank = temp_marks[0]\n",
    "last_second_rank = temp_marks[1]\n",
    "\n",
    "third_list =  marks.copy()\n",
    "\n",
    "print('rank1 index :-',marks.index(rank1))\n",
    "marks.pop(marks.index(rank1))\n",
    "marks.insert(third_list.index(rank1),'')\n",
    "print('rank2 index :-',marks.index(rank2))\n",
    "marks.pop(marks.index(rank2))\n",
    "marks.insert(third_list.index(rank2),'')\n",
    "print('rank3 index :-',marks.index(rank3))\n",
    "marks.pop(marks.index(rank3))\n",
    "marks.insert(third_list.index(rank3),'')\n",
    "print('last_rank index :-',marks.index(last_rank))\n",
    "marks.pop(marks.index(last_rank))\n",
    "marks.insert(third_list.index(last_rank),'')\n",
    "print('last_second_rank index :-',marks.index(last_second_rank))"
   ]
  },
  {
   "cell_type": "code",
   "execution_count": 4,
   "id": "f4bab29d",
   "metadata": {},
   "outputs": [
    {
     "name": "stdout",
     "output_type": "stream",
     "text": [
      "[1, 3, 4]\n",
      "[1, '', 3, 4]\n"
     ]
    }
   ],
   "source": [
    "m = [1,2,3,4]\n",
    "m.pop(1)\n",
    "print(m)\n",
    "m.insert(1,'')\n",
    "print(m)\n"
   ]
  },
  {
   "cell_type": "code",
   "execution_count": null,
   "id": "fed78352",
   "metadata": {},
   "outputs": [],
   "source": [
    "l1 = [4,5,6,{4,5,6,7(5,'p')}]\n",
    "set1 = {4,5,6,7(5,'p')}\n",
    "for i in set1:\n",
    "    print()\n"
   ]
  }
 ],
 "metadata": {
  "kernelspec": {
   "display_name": "Python 3 (ipykernel)",
   "language": "python",
   "name": "python3"
  },
  "language_info": {
   "codemirror_mode": {
    "name": "ipython",
    "version": 3
   },
   "file_extension": ".py",
   "mimetype": "text/x-python",
   "name": "python",
   "nbconvert_exporter": "python",
   "pygments_lexer": "ipython3",
   "version": "3.9.12"
  }
 },
 "nbformat": 4,
 "nbformat_minor": 5
}
