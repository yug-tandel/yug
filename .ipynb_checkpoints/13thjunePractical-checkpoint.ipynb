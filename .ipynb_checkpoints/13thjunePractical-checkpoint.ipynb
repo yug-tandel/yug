{
 "cells": [
  {
   "cell_type": "code",
   "execution_count": 82,
   "id": "a37b357b",
   "metadata": {},
   "outputs": [
    {
     "name": "stdout",
     "output_type": "stream",
     "text": [
      "Enter year\n",
      "1235\n"
     ]
    }
   ],
   "source": [
    "# Find leap year \n",
    "print(\"Enter year\")\n",
    "year = int(input())\n",
    "if year%400 == 0:\n",
    "    print('leap year')\n",
    "elif year%100 == 0:\n",
    "    print ('not a leap year')         \n",
    "elif year%4 == 0:\n",
    "    print('leap year')\n",
    "else:\n",
    "    print('not a leap year')\n",
    "print('your practical is done')\n",
    "print('hello my name is yug')\n"
   ]
  },
  {
   "cell_type": "code",
   "execution_count": 130,
   "id": "911bd6f5",
   "metadata": {},
   "outputs": [
    {
     "name": "stdout",
     "output_type": "stream",
     "text": [
      "33\n",
      "non prime\n"
     ]
    }
   ],
   "source": [
    "# Find prime number using conditional statement\n",
    "\n",
    "a = int(input())\n",
    "if a>=2 :\n",
    "    if a==2 or a==3 or a==5 or a==7:\n",
    "        print('prime')\n",
    "    else:\n",
    "        if a%1==0 and a%a==0 and a%2!=0 and (a+1)%2==0 and a%3!=0 and a%5!=0 and a%7!=0:\n",
    "            if a>120:\n",
    "                print('i will do it later')\n",
    "            else:\n",
    "                print('prime')\n",
    "        else:\n",
    "            print('non prime')\n",
    "else:\n",
    "    print('please enter valid number')"
   ]
  }
 ],
 "metadata": {
  "kernelspec": {
   "display_name": "Python 3 (ipykernel)",
   "language": "python",
   "name": "python3"
  },
  "language_info": {
   "codemirror_mode": {
    "name": "ipython",
    "version": 3
   },
   "file_extension": ".py",
   "mimetype": "text/x-python",
   "name": "python",
   "nbconvert_exporter": "python",
   "pygments_lexer": "ipython3",
   "version": "3.9.12"
  }
 },
 "nbformat": 4,
 "nbformat_minor": 5
}
