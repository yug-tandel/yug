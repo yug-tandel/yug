{
 "cells": [
  {
   "cell_type": "code",
   "execution_count": null,
   "id": "ebade3a7",
   "metadata": {},
   "outputs": [],
   "source": [
    "str1 = 'python is {} language'\n",
    "print(str1.format('programming'))"
   ]
  },
  {
   "cell_type": "code",
   "execution_count": null,
   "id": "c679925f",
   "metadata": {},
   "outputs": [],
   "source": [
    "print('hello {name} your balance is {balance}'.format(name='yug',balance=34532.34))"
   ]
  },
  {
   "cell_type": "code",
   "execution_count": null,
   "id": "67f165f2",
   "metadata": {},
   "outputs": [],
   "source": [
    "str1 = 'python'\n",
    "print(\"1\".join(str1))"
   ]
  },
  {
   "cell_type": "code",
   "execution_count": null,
   "id": "782c2144",
   "metadata": {},
   "outputs": [],
   "source": [
    "n = \"1020\"\n",
    "print(n)\n",
    "print(n.isdecimal())"
   ]
  },
  {
   "cell_type": "code",
   "execution_count": null,
   "id": "5c2c636f",
   "metadata": {},
   "outputs": [],
   "source": [
    "var1 = '૨૨'  # gujarati numbers\n",
    "var2 = '३४'  # hindi numbers\n",
    "var3 = 'VIII' # roman numbers is not a digit\n",
    "var4 = '1'\n",
    "print(var1.isdigit())\n",
    "print(var2.isdigit())\n",
    "print(var3.isdigit())\n",
    "print(var4.isdigit())\n"
   ]
  },
  {
   "cell_type": "code",
   "execution_count": null,
   "id": "6513ead6",
   "metadata": {},
   "outputs": [],
   "source": [
    "list1 = [1,2,3,4]\n",
    "print(list1)\n",
    "list1[1] = 'yug'\n",
    "print(list1)\n"
   ]
  },
  {
   "cell_type": "code",
   "execution_count": null,
   "id": "d214af37",
   "metadata": {},
   "outputs": [],
   "source": [
    "list1 = [1,2,3,4]\n",
    "# list1[:1] = 44  # raises an error\n",
    "list1[:1] = [44,67,45]  # Here, it should be an iterable when using slice method to change list elements\n",
    "print(list1)"
   ]
  },
  {
   "cell_type": "code",
   "execution_count": null,
   "id": "f5f9c187",
   "metadata": {},
   "outputs": [],
   "source": [
    "list1 = [1,2,3,4,5,6]\n",
    "print(list1.clear())"
   ]
  },
  {
   "cell_type": "code",
   "execution_count": null,
   "id": "eb19516f",
   "metadata": {},
   "outputs": [],
   "source": [
    "list1 = [1,2,3,4,5]\n",
    "list1.pop()\n",
    "print(list1)\n"
   ]
  },
  {
   "cell_type": "code",
   "execution_count": null,
   "id": "3af03dbb",
   "metadata": {},
   "outputs": [],
   "source": [
    "animals = ['dog','cat','rabbit']\n",
    "animals.remove('lion')\n",
    "print(animals)   # ValueError: list.remove(x): x not in list"
   ]
  },
  {
   "cell_type": "code",
   "execution_count": null,
   "id": "6ce7bd22",
   "metadata": {},
   "outputs": [],
   "source": [
    "names = ['yug','neha','jinal','naha']\n",
    "names.sort()\n",
    "print(names)"
   ]
  },
  {
   "cell_type": "code",
   "execution_count": null,
   "id": "7581c38a",
   "metadata": {},
   "outputs": [],
   "source": [
    "# vowels list\n",
    "vowels = ['e', 'a', 'u', 'o', 'i']\n",
    "\n",
    "# sort the vowels\n",
    "print(vowels.sort(reverse=True))\n",
    "\n",
    "# print vowels\n",
    "print('Sorted list (in Descending):', vowels)"
   ]
  },
  {
   "cell_type": "code",
   "execution_count": null,
   "id": "55cd2d8e",
   "metadata": {},
   "outputs": [],
   "source": [
    "set1 = {1,2,3,4}\n",
    "print(set1[1])"
   ]
  },
  {
   "cell_type": "code",
   "execution_count": null,
   "id": "991f23eb",
   "metadata": {},
   "outputs": [],
   "source": [
    "set2 = {1,2,3,4,5}\n",
    "set2[:] = {5,4,3,2,1}"
   ]
  },
  {
   "cell_type": "code",
   "execution_count": null,
   "id": "3f2d8489",
   "metadata": {},
   "outputs": [],
   "source": [
    "set1 = {4,3,2,1,{'yug':99}}\n",
    "print(set1)"
   ]
  },
  {
   "cell_type": "code",
   "execution_count": null,
   "id": "b048018a",
   "metadata": {},
   "outputs": [],
   "source": [
    "A = {1,2,3,4}\n",
    "B = {7,8,9,1}\n",
    "print(A+B)"
   ]
  },
  {
   "cell_type": "code",
   "execution_count": null,
   "id": "f24a374e",
   "metadata": {},
   "outputs": [],
   "source": [
    "# print(set('apple'))\n",
    "set1('yug')\n",
    "print(set1)"
   ]
  },
  {
   "cell_type": "code",
   "execution_count": null,
   "id": "3072251e",
   "metadata": {},
   "outputs": [],
   "source": [
    "A = {1,2,3,4,5}\n",
    "B = {4,5,6,7,8}\n",
    "print(A - B)"
   ]
  },
  {
   "cell_type": "code",
   "execution_count": null,
   "id": "34a87809",
   "metadata": {},
   "outputs": [],
   "source": [
    "set1 = {1,3,5,7}\n",
    "set1.discard(3)\n",
    "print(set1)\n",
    "set1.discard(38)   # If element is not present it will not through an error\n",
    "print(set1)"
   ]
  },
  {
   "cell_type": "code",
   "execution_count": null,
   "id": "4ed93b1e",
   "metadata": {},
   "outputs": [],
   "source": [
    "numbers = {1,2,3,4,5}\n",
    "numbers.remove(10)\n",
    "print(numbers)"
   ]
  },
  {
   "cell_type": "code",
   "execution_count": null,
   "id": "3808f7fa",
   "metadata": {},
   "outputs": [],
   "source": [
    "A = {1,2,3,5}\n",
    "B = {3,4,5}\n",
    "C = {3,6,7,5}\n",
    "D = {1,2}\n",
    "# print(A.intersection(B).intersection(C))\n",
    "print(A.intersection(B,C))\n",
    "print(A.intersection())\n",
    "print(A.intersection(B,C,D))"
   ]
  },
  {
   "cell_type": "code",
   "execution_count": null,
   "id": "64c8f94a",
   "metadata": {},
   "outputs": [],
   "source": [
    "A = {1,2,3,5}\n",
    "B = {3,4,5}\n",
    "C = {3,6,7,5}\n",
    "D = {1,2}\n",
    "A.intersection_update(B,C)\n",
    "# A.intersection_update()\n",
    "# A.intersection_update(B,C,D)\n",
    "print(A)"
   ]
  },
  {
   "cell_type": "code",
   "execution_count": null,
   "id": "b97ba216",
   "metadata": {},
   "outputs": [],
   "source": [
    "A = {'a','b','c','d'}\n",
    "B = {'y':12,'yug':99}\n",
    "print(A.isdisjoint(B))"
   ]
  },
  {
   "cell_type": "code",
   "execution_count": null,
   "id": "215dcf95",
   "metadata": {},
   "outputs": [],
   "source": [
    "t1 = (1,2,3,4,5)\n",
    "print(t1)\n",
    "t1[2] = 56\n"
   ]
  },
  {
   "cell_type": "code",
   "execution_count": null,
   "id": "aaed8406",
   "metadata": {},
   "outputs": [],
   "source": [
    "t1 = ('p','y','t','h','o','n')\n",
    "print(t1[-1:2:-1])"
   ]
  },
  {
   "cell_type": "code",
   "execution_count": null,
   "id": "208a97ba",
   "metadata": {},
   "outputs": [],
   "source": [
    "t1 = (1,2,3,4)\n",
    "t2 = (1,2,33,45)\n",
    "print(t1+t2)"
   ]
  },
  {
   "cell_type": "code",
   "execution_count": null,
   "id": "31d5b584",
   "metadata": {},
   "outputs": [],
   "source": [
    "list1 = [1,2,3,4]\n",
    "del list1[2]\n",
    "print(list1)"
   ]
  },
  {
   "cell_type": "code",
   "execution_count": null,
   "id": "8f31ae07",
   "metadata": {},
   "outputs": [],
   "source": [
    "tuple1 = (1,2,3,4)\n",
    "del tuple1[2]\n",
    "print(tuple1)"
   ]
  },
  {
   "cell_type": "code",
   "execution_count": null,
   "id": "b6afce8a",
   "metadata": {},
   "outputs": [],
   "source": [
    "t1 = (1,2,3,4)\n",
    "del t1\n",
    "print(t1)"
   ]
  },
  {
   "cell_type": "code",
   "execution_count": null,
   "id": "f65db1a5",
   "metadata": {},
   "outputs": [],
   "source": [
    "# iterating through tuple\n",
    "tp1 = ('yug',1,2,(34,),45,[12,'tuple'],'72',('yug',))\n",
    "for i in tp1:\n",
    "    print(i)"
   ]
  },
  {
   "cell_type": "code",
   "execution_count": null,
   "id": "39c75e75",
   "metadata": {},
   "outputs": [],
   "source": [
    "li = ['yug','88']\n",
    "string = ''\n",
    "for i in li:\n",
    "    print(i)\n",
    "    string = string + i\n",
    "print(string)"
   ]
  },
  {
   "cell_type": "code",
   "execution_count": null,
   "id": "bbbf8b82",
   "metadata": {},
   "outputs": [],
   "source": [
    "list1 = [5,6,6,4,9,5,7,1,2,3,4,5,6]\n",
    "sub_list = [3,4,5]\n",
    "# print(sub_list == list1[-4:-1])\n",
    "# string = str(list1)\n",
    "# print(string)\n",
    "# print(list1)\n",
    "string = ''\n",
    "sub_string = ''\n",
    "# for i in list1[list1.index(sub_list[0]):list1.index(sub_list[0])+len(sub_list)]:\n",
    "#     print(i)\n",
    "for i in list1:\n",
    "    i=str(i)\n",
    "    string = string + i\n",
    "print(string)\n",
    "for i in sub_list:\n",
    "    i=str(i)\n",
    "    sub_string = sub_string + i\n",
    "print(sub_string)\n",
    "if sub_string in string:\n",
    "    print('It exist')\n",
    "else:\n",
    "    print('Doesnot exist')\n",
    "    "
   ]
  },
  {
   "cell_type": "code",
   "execution_count": null,
   "id": "e9f76e6a",
   "metadata": {},
   "outputs": [],
   "source": [
    "dict1 = {1:1,2:2,{1:3}:1}   # for dictionary\n",
    "print(dict1)\n",
    "dict2 = {1:1,2:2,{3,4}:1}   # for sets\n",
    "print(dict2)\n",
    "dict3 = {1:1,2:2,[13]:1}    # for list\n",
    "print(dict3)\n"
   ]
  },
  {
   "cell_type": "code",
   "execution_count": null,
   "id": "9dc47cd5",
   "metadata": {},
   "outputs": [],
   "source": [
    "dict1 = {1:'yug',2:'y',1:'neha',3:'n',True:'yugtandel'}\n",
    "print(dict1)"
   ]
  },
  {
   "cell_type": "code",
   "execution_count": null,
   "id": "b8ca3f0b",
   "metadata": {},
   "outputs": [],
   "source": [
    "dict1 = {'yug':34,'karan':99,'students':[88,94,72,78,90]}\n",
    "dict1['students']"
   ]
  },
  {
   "cell_type": "code",
   "execution_count": null,
   "id": "8e195241",
   "metadata": {},
   "outputs": [],
   "source": [
    "dict1 = {'yug':34,'karan':99,'course':{'lang':'python','lang2':'JavaScript'}}\n",
    "d2 = dict1['course']['lang2']\n",
    "print(d2)\n",
    "\n"
   ]
  },
  {
   "cell_type": "code",
   "execution_count": null,
   "id": "be029444",
   "metadata": {},
   "outputs": [],
   "source": [
    "dict1 = {'yug':99,1:1,2:2}\n",
    "dict1.clear()\n",
    "print(dict1)"
   ]
  },
  {
   "cell_type": "code",
   "execution_count": null,
   "id": "542ae06e",
   "metadata": {},
   "outputs": [],
   "source": [
    "dict1 = {1:'one',2:'two'}\n",
    "dict2 = dict1            # here data is same but variables are different if you make changes  \n",
    "     # in one variable(suppose dict1), changes will also be applied on another variable(here, dict2)\n",
    "print('this is dict1',dict1)\n",
    "print('this is dict2',dict2)\n",
    "dict2[3] = 'three'\n",
    "print('this is dict1',dict1)\n",
    "print('this is dict2',dict2)\n",
    "del dict1[1]\n",
    "print('this is dict1',dict1)\n",
    "print('this is dict2',dict2)"
   ]
  },
  {
   "cell_type": "code",
   "execution_count": null,
   "id": "e99233cf",
   "metadata": {},
   "outputs": [],
   "source": [
    "# fromkeys()  method\n",
    "alpha = ['a','b','c']\n",
    "num = [1,2,3]\n",
    "dict.fromkeys(alpha,num)"
   ]
  },
  {
   "cell_type": "code",
   "execution_count": null,
   "id": "be8d5bb6",
   "metadata": {},
   "outputs": [],
   "source": [
    "alphabets = ['a','b','c']\n",
    "pairs = {1:'one',2:'two',3:'three'}\n",
    "values = [1,2]\n",
    "d1 = dict.fromkeys(alphabets,values)\n",
    "d2 = dict.fromkeys(pairs,values)   # it only accepts the keys from the \"pairs\" dictionary\n",
    "print(d1)\n",
    "print(d2)"
   ]
  },
  {
   "cell_type": "code",
   "execution_count": null,
   "id": "1110dc7c",
   "metadata": {},
   "outputs": [],
   "source": [
    "person = {'name':'yug','age':22}\n",
    "l1 = person.items()\n",
    "print(l1)\n",
    "for i in l1:\n",
    "    print(i)"
   ]
  },
  {
   "cell_type": "code",
   "execution_count": null,
   "id": "57d062b8",
   "metadata": {},
   "outputs": [],
   "source": [
    "person = {'name':'yug','age':22}\n",
    "l1 = list(person.items())\n",
    "print(l1)\n",
    "for i in l1:\n",
    "    print(i)"
   ]
  },
  {
   "cell_type": "code",
   "execution_count": null,
   "id": "92603464",
   "metadata": {},
   "outputs": [],
   "source": [
    "marks = {'maths':89,'physics':99}\n",
    "print(marks.items())\n",
    "print(list(marks.items()))\n",
    "# l1 = list(marks.items())\n",
    "# print(l1)"
   ]
  },
  {
   "cell_type": "code",
   "execution_count": null,
   "id": "08a31e4d",
   "metadata": {},
   "outputs": [],
   "source": [
    "employee = {\n",
    "    'name':'yug',\n",
    "    'age': 20,\n",
    "    'gender': 'male'\n",
    "}\n",
    "\n",
    "dictionaryKeys = employee.keys()\n",
    "print(dictionaryKeys)\n",
    "# dictionaryKeys = list(employee.keys())\n",
    "# print(dictionaryKeys)\n",
    "\n",
    "del employee['name']\n",
    "print(employee)\n",
    "print(dictionaryKeys)\n"
   ]
  },
  {
   "cell_type": "code",
   "execution_count": null,
   "id": "f2d134d4",
   "metadata": {},
   "outputs": [],
   "source": [
    "fruits = {'apple':2,'orange':3,'grapes':34}\n",
    "# fruits.pop('apple')   # returns the value at the key 'apple' i.e 2\n",
    "fruits.pop('mango')    # raise an error\n",
    "fruits.pop('mango','mango_fruit')   # returns the default value 'mango_fruit'"
   ]
  },
  {
   "cell_type": "code",
   "execution_count": null,
   "id": "7ae4b03d",
   "metadata": {},
   "outputs": [],
   "source": [
    "person = {'name':'yug','age':20, 'gender':'male'}\n",
    "person.popitem()   # returns the last element LIFO order. LIFO(Last In First Out)\n",
    "# person.popitem('name')   # raises an error because popitems dosen't take any arguments\n"
   ]
  },
  {
   "cell_type": "code",
   "execution_count": null,
   "id": "02cce97c",
   "metadata": {},
   "outputs": [],
   "source": [
    "# setdefault method \n",
    "person = {'name':'yug'}\n",
    "# person.setdefault()    # raises an error, expected at least 1 argument , got 0\n",
    "print(person.setdefault('age'))  # returns None because default value is not mention\n",
    "print(person)\n",
    "print(person.setdefault('age',20))  # returns None because key 'age' is present in the dictionary \n",
    "#   and value is None because previously we had given 'age' as a parameter in setdefault() method\n",
    "print(person.setdefault('gender','male'))  # returns 'male' because default value is male and key is\n",
    "#   not in the dictionary\n",
    "print(person)\n",
    "person.setdefault('name')  # returns 'yug' because 'name'key is already present in the dictionary"
   ]
  },
  {
   "cell_type": "code",
   "execution_count": null,
   "id": "d0ad3da0",
   "metadata": {},
   "outputs": [],
   "source": [
    "person = {'name':'yug','age':22}\n",
    "key_values = [('gender','male')]\n",
    "person.update(key_values)\n",
    "print(person)"
   ]
  },
  {
   "cell_type": "code",
   "execution_count": null,
   "id": "140b2a47",
   "metadata": {},
   "outputs": [],
   "source": [
    "fruits1 = {'apple':2,'orange':5}\n",
    "fruits2 = {'mango':12, 'grapes':50}\n",
    "fruits1.update(fruits2)\n",
    "print(fruits1)\n",
    "print(fruits2)"
   ]
  },
  {
   "cell_type": "code",
   "execution_count": null,
   "id": "791c7608",
   "metadata": {},
   "outputs": [],
   "source": [
    "fruits1 = {'apple':2,'orange':5}\n",
    "fruits2 = fruits1     # here data is same but variables are different, so changes in one variable,\n",
    "#    will make changes in another variable because they are refered by each other in memory.\n",
    "fruits2.update({'tomatoes':34})\n",
    "print('fruits2 =',fruits2)\n",
    "print('fruits1 =',fruits1)"
   ]
  },
  {
   "cell_type": "code",
   "execution_count": null,
   "id": "e65233f0",
   "metadata": {},
   "outputs": [],
   "source": [
    "n = {1:'one',2:'fekhsdhf'}\n",
    "d = {3:'three',2:'two'}\n",
    "n.update(d)\n",
    "print(n)"
   ]
  },
  {
   "cell_type": "code",
   "execution_count": null,
   "id": "56ded284",
   "metadata": {},
   "outputs": [],
   "source": [
    "n = {}\n",
    "tuple_pairs = [(1,'one'),(2,'two')]\n",
    "list_pairs = [['fruit','mango'],['veg','carrot']]\n",
    "set_pairs = [{'name','yug'},{'age',22}]\n",
    "n.update(tuple_pairs)\n",
    "print(n)\n",
    "n.update(list_pairs)\n",
    "print(n)\n",
    "n.update(set_pairs)\n",
    "print(n)"
   ]
  },
  {
   "cell_type": "code",
   "execution_count": null,
   "id": "cecdb612",
   "metadata": {},
   "outputs": [],
   "source": [
    "set1 = {1,2,{1,2}}"
   ]
  },
  {
   "cell_type": "code",
   "execution_count": null,
   "id": "96388428",
   "metadata": {},
   "outputs": [],
   "source": [
    "fruits = {'apple':2,'mango':3,'orange':33}\n",
    "print(fruits.values())\n",
    "print(list(fruits.values()))"
   ]
  },
  {
   "cell_type": "code",
   "execution_count": null,
   "id": "c2d5f93b",
   "metadata": {},
   "outputs": [],
   "source": [
    "d1 = {'a':1,'b':2,'c':3}\n",
    "d2 = {'f':23,'g':10,'a':10}\n",
    "temp = d1.copy()\n",
    "temp.update(d2)\n",
    "# print(temp)\n",
    "for key in d1:\n",
    "    if key in d2:\n",
    "        temp[key] = d1[key]+d2[key]\n",
    "print(temp)"
   ]
  },
  {
   "cell_type": "code",
   "execution_count": null,
   "id": "baa337ea",
   "metadata": {},
   "outputs": [],
   "source": [
    "l = [['1','2'],['a','b','c']]\n",
    "ol = range(0,len(l))\n",
    "# print(ol[1])\n",
    "count = 0\n",
    "j = 0\n",
    "for i in range(0,len(l[0])*len(l[1])):\n",
    "    if count >= len(l[1]):\n",
    "        print(l[0][1]+l[1][j])\n",
    "        j = j+1\n",
    "        if j == 3:\n",
    "            j = 0\n",
    "    else:\n",
    "        print(l[0][0]+l[1][j])\n",
    "        j = j+1\n",
    "        if j == 3:\n",
    "            j = 0\n",
    "    count = count + 1"
   ]
  },
  {
   "cell_type": "code",
   "execution_count": null,
   "id": "50dcb42e",
   "metadata": {
    "scrolled": true
   },
   "outputs": [],
   "source": [
    "# list1 = [['yug',8.6],['neha',16.8],['beta',16.8],['alpha',16.8],['alpha2',16.8],['alpha',123.3]]\n",
    "list1 = [['Rachel',50],['Mawer',50],['Sheen',50],['Shaheen',51]]\n",
    "temp = []\n",
    "for i in list1:\n",
    "    i.reverse()\n",
    "    temp.append(i)\n",
    "temp.sort()\n",
    "print(temp)\n",
    "\n",
    "for j in range(1,len(temp)): \n",
    "    if temp[0][0] == temp[1][0]: \n",
    "        temp.remove(temp[1])      \n",
    "    else:\n",
    "        break\n",
    "print(temp)\n",
    "s=2\n",
    "c=0\n",
    "list2 = []\n",
    "for j in range(1,len(temp)): # j = 1,2,3,4,\n",
    "    if j == 1:\n",
    "        list2.append(temp[j])\n",
    "    else:\n",
    "        if temp[1][0] == temp[s][0]: # s = 2,3,4\n",
    "            list2.insert(j,temp[j])\n",
    "            s = s+1        \n",
    "        else:\n",
    "            break\n",
    "print(list2)\n",
    "list3 = []\n",
    "for i in list2:\n",
    "    i.reverse()\n",
    "    list3.append(i)\n",
    "print(list2)\n",
    "list2.sort()\n",
    "print(list2)\n",
    "for i in list2:\n",
    "    print(i[0])"
   ]
  },
  {
   "cell_type": "code",
   "execution_count": null,
   "id": "75734351",
   "metadata": {},
   "outputs": [],
   "source": [
    "string = 'iaefenihefhiehcijeceoicoiehciwefsfsefsdfgrrhjtdfdce'\n",
    "string = 'eddcba'\n",
    "temp = ''\n",
    "list1 = []\n",
    "j = 0\n",
    "for i in string:\n",
    "    if i not in temp:\n",
    "#         print(i,string.count(i))\n",
    "        list1.append([i,string.count(i)])\n",
    "#         list1[j].reverse()\n",
    "        j = j+1\n",
    "        temp = temp + i\n",
    "    else:\n",
    "        continue\n",
    "print(list1)\n",
    "print()\n",
    "# list1.sort()\n",
    "# print(list1)\n",
    "print()\n",
    "for j in range(len(list1)):\n",
    "    list1[j].reverse()\n",
    "print(list1)\n",
    "print()\n",
    "\n",
    "list1.sort(reverse = True)\n",
    "print(list1)\n",
    "# del list1[3:]\n",
    "# print(list1)\n",
    "\n",
    "for j in range(len(list1)):\n",
    "    list1[j].reverse()\n",
    "# print(list1)\n",
    "list1.sort()\n",
    "print(list1)\n",
    "\n",
    "list2 = []\n",
    "list3 = []\n",
    "j = 0\n",
    "# for i in range(len(list1)):\n",
    "if list1[0][1]>=list1[1][1]:\n",
    "    if list1[0][1]>list1[2][1]:\n",
    "        list2.append(list1[0])\n",
    "        list1.remove(list1[0])\n",
    "    else:\n",
    "        list2.append(list1[2])\n",
    "        list1.remove(list1[2])\n",
    "else:\n",
    "    list2.append(list1[1])\n",
    "    list1.remove(list1[1])\n",
    "print(list1)\n",
    "print(list2)\n",
    "\n",
    "for i in range(1):\n",
    "    if list1[0][1]>list1[1][1]:\n",
    "        list2.append(list1[0])\n",
    "        list1.remove(list1[0])\n",
    "    elif list1[0][1]==list1[1][1]:\n",
    "        break\n",
    "    else:\n",
    "        list2.append(list1[1])\n",
    "list2 = list2 + list1\n",
    "print(list2)\n",
    "for (i,j) in list2:\n",
    "    print(i,j)\n",
    "# for i in range(len(list1)): # i = 0\n",
    "#     if list1[0][1] > list1[1][1]:\n",
    "#         list2.append(list1[0])  \n",
    "#         list1.pop(list1[0])    \n",
    "#     elif list1[0][1] == list1[1][1]:\n",
    "#         pass\n",
    "#     else:\n",
    "#         list3.append(list1[0])\n",
    "# #         list1.pop(list1[1])\n",
    "# print(list2)\n",
    "\n",
    "\n",
    "    "
   ]
  },
  {
   "cell_type": "code",
   "execution_count": null,
   "id": "38c75ad0",
   "metadata": {},
   "outputs": [],
   "source": [
    "l1 = [['a', 2], ['b', 3], ['c', 2]]\n",
    "l1.remove(l1[0])\n",
    "print(l1)"
   ]
  },
  {
   "cell_type": "code",
   "execution_count": null,
   "id": "f98611ea",
   "metadata": {},
   "outputs": [],
   "source": [
    "string = 'uecuiegcyugweycbwegchuecyugewyugweyc'\n",
    "list1 = list(string)\n",
    "print(list1)\n",
    "# list1 = dict(list1)"
   ]
  },
  {
   "cell_type": "code",
   "execution_count": null,
   "id": "6fbbe390",
   "metadata": {},
   "outputs": [],
   "source": [
    "string = 'yug'\n",
    "str1 = string[0:10]\n",
    "print(str1)"
   ]
  },
  {
   "cell_type": "code",
   "execution_count": null,
   "id": "69e35a2b",
   "metadata": {},
   "outputs": [],
   "source": [
    "string = 'abcdefghijklmnopqrstuvwxyz'\n",
    "max_width = 4\n",
    "final = ''\n",
    "j = 0\n",
    "for i in range(1,len(string)//max_width + 2):\n",
    "    final = final + string[j:max_width*i] + '\\n'\n",
    "    j = j + max_width\n",
    "print(final)"
   ]
  },
  {
   "cell_type": "code",
   "execution_count": null,
   "id": "3e867199",
   "metadata": {},
   "outputs": [],
   "source": [
    "# string = 'bacdebacaeeedcebcde'\n",
    "string = 'dbac'\n",
    "temp = ''\n",
    "l1 = []\n",
    "l2 = []\n",
    "for i in string:\n",
    "    if i not in temp:\n",
    "#         count(i)\n",
    "        print(i,string.count(i))\n",
    "        l1.append(i)\n",
    "        l2.append(string.count(i))\n",
    "        temp = temp + i \n",
    "    else:\n",
    "        pass\n",
    "print(l1)\n",
    "print(l2)\n",
    "dictionary = {}\n",
    "for i in range(len(l1)):\n",
    "    dictionary.setdefault(l1[i],l2[i])\n",
    "print(dictionary)"
   ]
  },
  {
   "cell_type": "code",
   "execution_count": null,
   "id": "a168f4eb",
   "metadata": {
    "scrolled": true
   },
   "outputs": [],
   "source": [
    "import operator\n",
    "s = input()\n",
    "s = list(s)\n",
    "s.sort()\n",
    "print(s)\n",
    "\n",
    "d1 = dict()\n",
    "for c in s:\n",
    "    if c in d1:\n",
    "        d1[c] = d1[c] + 1\n",
    "    else:\n",
    "        d1[c] = 1\n",
    "# print(d1)\n",
    "w={k: v for k,v in sorted(d1.items())}\n",
    "res = {k: v for k, v in sorted(d1.items(),key = lambda v:v[1],reverse = True)}\n",
    "print(res)\n",
    "temp = []\n",
    "for i in res:\n",
    "    p=i, res[i]\n",
    "    (list(p)).reverse()\n",
    "#     print(list(p))\n",
    "    temp = temp + [list(p)]\n",
    "del temp[3:]\n",
    "print(temp)\n",
    "for (i,j) in temp:\n",
    "    print(i,j)"
   ]
  },
  {
   "cell_type": "code",
   "execution_count": null,
   "id": "fec47bcc",
   "metadata": {},
   "outputs": [],
   "source": [
    "# dict1 = {1:'one',2:'two'}\n",
    "# for (i,j) in dict1:\n",
    "#     print(i,j)\n",
    "list1 = [[1,2],[3,4]]\n",
    "for i,j in list1:\n",
    "    print(i,j)"
   ]
  },
  {
   "cell_type": "code",
   "execution_count": null,
   "id": "a4119fa2",
   "metadata": {},
   "outputs": [],
   "source": [
    "# Task\n",
    "\n",
    "# A newly opened multinational brand has decided to base their company logo on the three most common characters in the company name. They are now trying out various combinations of company names and logos based on this condition. Given a string , which is the company name in lowercase letters, your task is to find the top three most common characters in the string.\n",
    "\n",
    "# Print the three most common characters along with their occurrence count.\n",
    "# Sort in descending order of occurrence count.\n",
    "# If the occurrence count is the same, sort the characters in alphabetical order.\n",
    "\n",
    "s = input()\n",
    "# s = 'cdabbaacadd'\n",
    "x = s.count('a')\n",
    "print(x)\n",
    "\n",
    "list1 = list(s)\n",
    "list1.sort()\n",
    "print(list1)\n",
    "temp = ''\n",
    "list2 = []\n",
    "for i in list1:\n",
    "    if i not in temp:\n",
    "        list1.count(i)\n",
    "        print(i,list1.count(i))\n",
    "        list2.append([i,list1.count(i)])\n",
    "        temp = temp + i\n",
    "    else:\n",
    "        continue\n",
    "# print(list2)\n",
    "\n",
    "for i in range(len(list2)):\n",
    "    for j in range(len(list2)-1):\n",
    "        if list2[j][1] < list2[j+1][1]:\n",
    "            list2[j], list2[j+1] = list2[j+1], list2[j]\n",
    "print(list2)\n",
    "del list2[3:]\n",
    "print(list2)\n",
    "for (i,j) in list2:\n",
    "    print(i,j)"
   ]
  },
  {
   "cell_type": "code",
   "execution_count": null,
   "id": "63afeffc",
   "metadata": {},
   "outputs": [],
   "source": []
  }
 ],
 "metadata": {
  "kernelspec": {
   "display_name": "Python 3 (ipykernel)",
   "language": "python",
   "name": "python3"
  },
  "language_info": {
   "codemirror_mode": {
    "name": "ipython",
    "version": 3
   },
   "file_extension": ".py",
   "mimetype": "text/x-python",
   "name": "python",
   "nbconvert_exporter": "python",
   "pygments_lexer": "ipython3",
   "version": "3.9.12"
  }
 },
 "nbformat": 4,
 "nbformat_minor": 5
}
