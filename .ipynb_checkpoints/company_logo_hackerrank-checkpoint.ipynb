{
 "cells": [
  {
   "cell_type": "code",
   "execution_count": null,
   "id": "7fa763b1",
   "metadata": {},
   "outputs": [],
   "source": [
    "                                    # company Logo\n",
    "# Task\n",
    "\n",
    "# A newly opened multinational brand has decided to base their company logo on the three most common characters in the company name. They are now trying out various combinations of company names and logos based on this condition. Given a string , which is the company name in lowercase letters, your task is to find the top three most common characters in the string.\n",
    "\n",
    "# Print the three most common characters along with their occurrence count.\n",
    "# Sort in descending order of occurrence count.\n",
    "# If the occurrence count is the same, sort the characters in alphabetical order.\n",
    "\n",
    "s = input()\n",
    "# s = 'cdabbaacadd'\n",
    "x = s.count('a')\n",
    "print(x)\n",
    "\n",
    "list1 = list(s)\n",
    "list1.sort()\n",
    "print(list1)\n",
    "temp = ''\n",
    "list2 = []\n",
    "for i in list1:\n",
    "    if i not in temp:\n",
    "        list1.count(i)\n",
    "        print(i,list1.count(i))\n",
    "        list2.append([i,list1.count(i)])\n",
    "        temp = temp + i\n",
    "    else:\n",
    "        continue\n",
    "# print(list2)\n",
    "\n",
    "for i in range(len(list2)):\n",
    "    for j in range(len(list2)-1):\n",
    "        if list2[j][1] < list2[j+1][1]:\n",
    "            list2[j], list2[j+1] = list2[j+1], list2[j]\n",
    "print(list2)\n",
    "del list2[3:]\n",
    "print(list2)\n",
    "for (i,j) in list2:\n",
    "    print(i,j)"
   ]
  }
 ],
 "metadata": {
  "kernelspec": {
   "display_name": "Python 3 (ipykernel)",
   "language": "python",
   "name": "python3"
  },
  "language_info": {
   "codemirror_mode": {
    "name": "ipython",
    "version": 3
   },
   "file_extension": ".py",
   "mimetype": "text/x-python",
   "name": "python",
   "nbconvert_exporter": "python",
   "pygments_lexer": "ipython3",
   "version": "3.9.12"
  }
 },
 "nbformat": 4,
 "nbformat_minor": 5
}
