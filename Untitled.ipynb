{
 "cells": [
  {
   "cell_type": "code",
   "execution_count": null,
   "id": "a894e851",
   "metadata": {},
   "outputs": [],
   "source": [
    "#QB1.What is python, name some of the features of python.\n",
    "#--> Python is a dynamic, high level, free open source and\n",
    "#interpreted programming language. It supports object-oriented\n",
    "#programming as well as procedural oriented programming. In Python,\n",
    "#we don't need to declare the type of variable because it is a \n",
    "#dynamically typed language."
   ]
  },
  {
   "cell_type": "code",
   "execution_count": null,
   "id": "b7df74b5",
   "metadata": {},
   "outputs": [],
   "source": [
    "#QB2.Write a Python program to get the puthon version you are using."
   ]
  },
  {
   "cell_type": "code",
   "execution_count": null,
   "id": "754b9767",
   "metadata": {},
   "outputs": [],
   "source": [
    "#QB3.Is python the right choice for Web base Programming?\n",
    "#-->Python programming yields an advantage over other programming languages\n",
    "#when it comes to highly functional programming, which is a must-have for\n",
    "#websites and applications in 2021. With its ongoing development, Python is the \n",
    "#perfect language to cover the challenges that businesses face every new day."
   ]
  },
  {
   "cell_type": "code",
   "execution_count": null,
   "id": "3dd5bac8",
   "metadata": {},
   "outputs": [],
   "source": [
    "#QB4.Why was python called as Python?\n",
    "#-->When Guido van Rossum began implementing Python, he was also reading the \n",
    "#published scripts from “Monty Python's Flying Circus”, a BBC comedy series \n",
    "#from the 1970s. Van Rossum thought he needed a name that was short, unique, \n",
    "#and slightly mysterious, so he decided to call the language Python."
   ]
  },
  {
   "cell_type": "code",
   "execution_count": null,
   "id": "ccb0b405",
   "metadata": {},
   "outputs": [],
   "source": [
    "#QB5. Write a python program to check if a number is postive, negtive or zero.\n",
    "\n",
    "print('Enter a number')\n",
    "number = int(input())\n",
    "if number>0:\n",
    "    print('positive')\n",
    "elif number==0:\n",
    "    print('zero')\n",
    "elif number<0:\n",
    "    print('negative')"
   ]
  },
  {
   "cell_type": "code",
   "execution_count": null,
   "id": "79eea802",
   "metadata": {},
   "outputs": [],
   "source": [
    "#QB6.What is the language from which python has got its features or derived\n",
    "#    its features?\n",
    "#--> Python is derived from many other languages, including ABC, Modula-3, C, \n",
    "#C++, Algol-68, SmallTalk, and Unix shell and other scripting languages."
   ]
  },
  {
   "cell_type": "code",
   "execution_count": null,
   "id": "2e19c29a",
   "metadata": {},
   "outputs": [],
   "source": [
    "# pattern problems\n",
    "\n",
    "rows = int(input('enter number or rows'))\n",
    "for i in range(0,rows+1):\n",
    "    for j in range(0,i):\n",
    "        print(end=' ')\n",
    "    for k in range(1,rows+1-i):\n",
    "        print('*',end=' ')\n",
    "    print()"
   ]
  },
  {
   "cell_type": "code",
   "execution_count": null,
   "id": "b9875f54",
   "metadata": {},
   "outputs": [],
   "source": [
    "# star pattern 2\n",
    "x=4 # for first pattern\n",
    "y=9 # for second pattern\n",
    "z=4 # for third pattern\n",
    "for i in range(0,x):# i = 1\n",
    "    for j in range(0,x-i): # j = 0 to 4-1 = 3\n",
    "        print(end=' ')\n",
    "    for k in range(0,i+1):\n",
    "        print('*',end='')\n",
    "    print()\n",
    "for midStars in range(0,y):\n",
    "    print(end='*')\n",
    "print()\n",
    "for i in range(0,z):\n",
    "    for j in range(0,z):\n",
    "        print(end=' ')\n",
    "    for k in range(0,z-i):\n",
    "        print('*',end='')\n",
    "    print()"
   ]
  },
  {
   "cell_type": "code",
   "execution_count": 2,
   "id": "498c37af",
   "metadata": {},
   "outputs": [
    {
     "name": "stdout",
     "output_type": "stream",
     "text": [
      "enter a string 12121\n",
      "enter a substring 121\n",
      "1\n"
     ]
    }
   ],
   "source": [
    "string = input('enter a string ')\n",
    "sub_string = input('enter a substring ')\n",
    "\n",
    "count = string.count(sub_string)\n",
    "print(count)"
   ]
  },
  {
   "cell_type": "code",
   "execution_count": null,
   "id": "3492fbcc",
   "metadata": {},
   "outputs": [],
   "source": [
    "s = input()\n",
    "count_alnum = False\n",
    "count_alpha = False\n",
    "count_digit = False\n",
    "count_lower = False\n",
    "count_upper = False\n",
    "for i in s:  # i = 2, s = 'A#'\n",
    "    if i.isalnum():\n",
    "        count_alnum = True\n",
    "    if i.isalpha():\n",
    "        count_alpha = True\n",
    "    if i.isdigit():\n",
    "        count_digit = True  \n",
    "    if i.islower():\n",
    "        count_lower = True  \n",
    "    if i.isupper():\n",
    "        count_upper = True  \n",
    "print(count_alnum) \n",
    "print(count_alpha) \n",
    "print(count_digit) \n",
    "print(count_lower) \n",
    "print(count_upper) \n"
   ]
  },
  {
   "cell_type": "code",
   "execution_count": null,
   "id": "92246881",
   "metadata": {},
   "outputs": [],
   "source": [
    "# chechk if the given string symmetrical or palindrome\n",
    "# symmetrical--> khokho\n",
    "# palindrome--> malayalam\n",
    "# both --> amaama\n",
    "a = input('enter a string :- ')\n",
    "l = len(a)//2\n",
    "# print(a[len(a)-1::-1])\n",
    "if  a[0:l] == a[l:len(a)] and a[0:len(a)] == a[len(a)-1::-1]:\n",
    "    print(a,' is symmetrical and palindrome')\n",
    "elif a[0:l] == a[l:len(a)]:\n",
    "    print(a,' is symmetrical')\n",
    "elif a[0:len(a)] == a[len(a)-1::-1]:\n",
    "        print(a,' is palindrome')\n",
    "else:\n",
    "    print(a)"
   ]
  },
  {
   "cell_type": "code",
   "execution_count": null,
   "id": "0020c91b",
   "metadata": {},
   "outputs": [],
   "source": [
    "# Q13 Write a python program to count the number of characters\n",
    "# (character frequency) in a string\n",
    "\n",
    "# string = input('enter a string:- ')\n",
    "string = 'abc yabc abc z'\n",
    "for i in string: # i = b\n",
    "    count = 0    \n",
    "    str1 = ''\n",
    "    str1 = str1 + i   # str1 = b\n",
    "    for j in string: # j = a\n",
    "        if str1 == j:\n",
    "            count += 1   # count = 3\n",
    "        else:\n",
    "            continue\n",
    "    print(str1,':',count)"
   ]
  },
  {
   "cell_type": "code",
   "execution_count": null,
   "id": "0e4862ff",
   "metadata": {},
   "outputs": [],
   "source": [
    "string = input('Enter a string:- ')\n",
    "str_temp = ''\n",
    "for i in string: # i = z\n",
    "    if i not in str_temp: # i = z\n",
    "        str_temp += i    # str_temp = abc' 'yz\n",
    "        print(i,\":\",string.count(i),end=',  ')\n",
    "    else:\n",
    "        continue"
   ]
  },
  {
   "cell_type": "code",
   "execution_count": null,
   "id": "97b362a1",
   "metadata": {},
   "outputs": [],
   "source": [
    "# Q16 Write a python program to count the occurrence of each word in a given \n",
    "# sentence\n",
    "string = input('enter a string :- ')\n",
    "list1 = string.split(' ')\n",
    "print(list1)\n",
    "temp = ''\n",
    "for word in list1:\n",
    "    if word in temp:\n",
    "        continue\n",
    "    else:\n",
    "        temp += word\n",
    "        print(word,':',string.count(word),end='  ')"
   ]
  },
  {
   "cell_type": "code",
   "execution_count": null,
   "id": "d0c92a5f",
   "metadata": {},
   "outputs": [],
   "source": [
    "# expandtabs\n",
    "str1 = \"12345\\ty\\ttandel\\tyug\\tkumar\\t1234567890\\tblah-blah\"\n",
    "print(str1)"
   ]
  },
  {
   "cell_type": "code",
   "execution_count": null,
   "id": "6dbb8e19",
   "metadata": {},
   "outputs": [],
   "source": [
    "# Python3 code to demonstrate\n",
    "# working of expandtabs()\n",
    "\n",
    "# initializing string\n",
    "str = \"i    2\\tloved\\tgfg\"\n",
    "\n",
    "# using expandtabs to insert spacing\n",
    "print(\"Modified string using default spacing: \", end =\"\")\n",
    "print(str.expandtabs())\n",
    "\n",
    "print(\"\\r\")\n",
    "\n",
    "# using expandtabs to insert spacing\n",
    "print(\"Modified string using less spacing: \", end =\"\")\n",
    "print(str.expandtabs(2))\n",
    "\n",
    "print(\"\\r\")\n",
    "\n",
    "# using expandtabs to insert spacing\n",
    "print(\"Modified string using more spacing: \", end =\"\")\n",
    "print(str.expandtabs(12))\n",
    "\n",
    "print(\"\\r\")\n"
   ]
  },
  {
   "cell_type": "code",
   "execution_count": null,
   "id": "3231adaa",
   "metadata": {},
   "outputs": [],
   "source": [
    "a = ['apple','orange','apple','mango','orange']\n",
    "str1 = ''\n",
    "count = 1\n",
    "for i in a:\n",
    "    str1 = str1 + i\n",
    "    if i == str1:\n",
    "        count = count + 1\n",
    "print(i,count)\n",
    "#    print(i,':',a.count(i))\n",
    "#print(a[0:len(a)])"
   ]
  },
  {
   "cell_type": "code",
   "execution_count": null,
   "id": "e350a3c2",
   "metadata": {},
   "outputs": [],
   "source": [
    "#Q14. What are negative indexes and why are they used?\n",
    "#--> Negative indexing in Python means the indexing starts from the end of the \n",
    "# iterable. The last element is at index -1, the second last at -2, and so on.\n",
    "# The use of negative indexing can be done to use or display data from the end\n",
    "# of the list and can also be used to reverse a number or string without using \n",
    "# other functions."
   ]
  },
  {
   "cell_type": "code",
   "execution_count": null,
   "id": "31800939",
   "metadata": {},
   "outputs": [],
   "source": [
    "#Q15. Write a python program to count occurrences of a s substring in a string.\n",
    "str1 = input('enter the string ')\n",
    "str2 = input('enter the substring you want to count ')\n",
    "\n",
    "occurence = str1.count(str2)\n",
    "print(occurence)"
   ]
  },
  {
   "cell_type": "code",
   "execution_count": null,
   "id": "6a3b8c6c",
   "metadata": {},
   "outputs": [],
   "source": [
    "#Q17. Write a python program to get a single string from two given strings,\n",
    "# separate by a space and swap the first two characters of each string\n",
    "str1 = input('enter string 1 ')#'python'\n",
    "str2 = input('enter string 2 ')#'programming'\n",
    "space = ' '\n",
    "\n",
    "str3 = str1[1::-1]+str1[2:len(str1)]+space\n",
    "str4 = str2[1::-1]+str2[2:len(str2)]\n",
    "print(str3+str4)\n"
   ]
  },
  {
   "cell_type": "code",
   "execution_count": null,
   "id": "ec33958f",
   "metadata": {},
   "outputs": [],
   "source": [
    "#Q18.Write a Python program to add 'ing' at the end of a given string(length \n",
    "# should be at least 3). If the given string already ends with 'ing' then add \n",
    "# 'ly' instead. If the string length of the given string is less than 3,\n",
    "# leave it unchanged \n",
    "string = input('Enter a string ')\n",
    "print(string[len(string)-3:len(string):1])\n",
    "str1 = ''\n",
    "if len(string)<3:\n",
    "    print(string)\n",
    "elif string[len(string)-3:len(string):1]=='ing':\n",
    "    str1 = string + 'ly'\n",
    "    print(str1)\n",
    "else:\n",
    "    str1 = string + 'ing'\n",
    "    print(str1)"
   ]
  },
  {
   "cell_type": "code",
   "execution_count": null,
   "id": "1e44e500",
   "metadata": {},
   "outputs": [],
   "source": [
    "x = 5\n",
    "y = 'yug'\n",
    "print(type(y))\n",
    "print(type(x))"
   ]
  },
  {
   "cell_type": "code",
   "execution_count": null,
   "id": "ec37df35",
   "metadata": {},
   "outputs": [],
   "source": [
    "# star pattern\n",
    "#        * \n",
    "#       * * \n",
    "#      * * * \n",
    "#     * * * * \n",
    "#    * * * * * \n",
    "#   * * * * * * \n",
    "#  * * * * * * * \n",
    "# * * * * * * * * \n",
    "\n",
    "num=8\n",
    "for i in range(0,num):\n",
    "    for j in range(0,num-i-1):\n",
    "        print(end=' ')\n",
    "    for j in range(0,i+1):\n",
    "        print('*',end=' ')\n",
    "    print()"
   ]
  },
  {
   "cell_type": "code",
   "execution_count": null,
   "id": "aebba0ad",
   "metadata": {},
   "outputs": [],
   "source": []
  },
  {
   "cell_type": "code",
   "execution_count": null,
   "id": "334ac971",
   "metadata": {},
   "outputs": [],
   "source": []
  },
  {
   "cell_type": "code",
   "execution_count": null,
   "id": "7aa41894",
   "metadata": {},
   "outputs": [],
   "source": []
  },
  {
   "cell_type": "code",
   "execution_count": null,
   "id": "209dd781",
   "metadata": {},
   "outputs": [],
   "source": []
  }
 ],
 "metadata": {
  "kernelspec": {
   "display_name": "Python 3 (ipykernel)",
   "language": "python",
   "name": "python3"
  },
  "language_info": {
   "codemirror_mode": {
    "name": "ipython",
    "version": 3
   },
   "file_extension": ".py",
   "mimetype": "text/x-python",
   "name": "python",
   "nbconvert_exporter": "python",
   "pygments_lexer": "ipython3",
   "version": "3.9.12"
  }
 },
 "nbformat": 4,
 "nbformat_minor": 5
}
