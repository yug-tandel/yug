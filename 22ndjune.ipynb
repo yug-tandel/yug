{
 "cells": [
  {
   "cell_type": "code",
   "execution_count": null,
   "id": "acb7903e",
   "metadata": {},
   "outputs": [],
   "source": [
    "#Q14. What are negative indexes and why are they used?\n",
    "#--> Negative indexing in Python means the indexing starts from the end of the \n",
    "# iterable. The last element is at index -1, the second last at -2, and so on.\n",
    "# The use of negative indexing can be done to use or display data from the end\n",
    "# of the list and can also be used to reverse a number or string without using \n",
    "# other functions."
   ]
  },
  {
   "cell_type": "code",
   "execution_count": null,
   "id": "b996d59c",
   "metadata": {},
   "outputs": [],
   "source": [
    "#Q15. Write a python program to count occurrences of a s substring in a string.\n",
    "str1 = input('enter the string ')\n",
    "str2 = input('enter the substring you want to count ')\n",
    "\n",
    "occurence = str1.count(str2)\n",
    "print(occurence)"
   ]
  },
  {
   "cell_type": "code",
   "execution_count": null,
   "id": "bd4c2600",
   "metadata": {},
   "outputs": [],
   "source": [
    "#Q16. Write a Python program to count the occurences of each word in a \n",
    "# given sentence.\n",
    "str1 = input('enter a string:- ')\n"
   ]
  },
  {
   "cell_type": "code",
   "execution_count": 25,
   "id": "299561f1",
   "metadata": {},
   "outputs": [
    {
     "name": "stdout",
     "output_type": "stream",
     "text": [
      "enter string 1   yug\n",
      "enter string 2   tandel\n",
      "  yug   tandel\n"
     ]
    }
   ],
   "source": [
    "#Q17. Write a python program to get a single string from two given strings,\n",
    "# separate by a space and swap the first two characters of each string\n",
    "str1 = input('enter string 1 ')#'python'\n",
    "str2 = input('enter string 2 ')#'programming'\n",
    "space = ' '\n",
    "\n",
    "str3 = str1[1::-1]+str1[2:len(str1)]+space\n",
    "str4 = str2[1::-1]+str2[2:len(str2)]\n",
    "print(str3+str4)\n"
   ]
  },
  {
   "cell_type": "code",
   "execution_count": 42,
   "id": "7b871201",
   "metadata": {},
   "outputs": [
    {
     "name": "stdout",
     "output_type": "stream",
     "text": [
      "Enter a string string\n",
      "ing\n",
      "stringly\n"
     ]
    }
   ],
   "source": [
    "#Q18.Write a Python program to add 'ing' at the end of a given string(length \n",
    "# should be at least 3). If the given string already ends with 'ing' then add \n",
    "# 'ly' instead. If the string length of the given string is less than 3,\n",
    "# leave it unchanged \n",
    "string = input('Enter a string ')\n",
    "print(string[len(string)-3:len(string):1])\n",
    "str1 = ''\n",
    "if len(string)<3:\n",
    "    print(string)\n",
    "elif string[len(string)-3:len(string):1]=='ing':\n",
    "    str1 = string + 'ly'\n",
    "    print(str1)\n",
    "else:\n",
    "    str1 = string + 'ing'\n",
    "    print(str1)"
   ]
  },
  {
   "cell_type": "code",
   "execution_count": null,
   "id": "0717c6ab",
   "metadata": {},
   "outputs": [],
   "source": [
    "#Q19. Write a Python program to find the first appearance of the substring 'not' \n",
    "# and 'poor' from a given string, if 'not' follows the 'poor', replace the whole \n",
    "# 'not'...'poor' substring with 'good'. Return the resulting string."
   ]
  },
  {
   "cell_type": "code",
   "execution_count": null,
   "id": "5cc7eb38",
   "metadata": {},
   "outputs": [],
   "source": [
    "#Q20. Write a Python function that takes a list of words and returns the length\n",
    "# of the longest one."
   ]
  },
  {
   "cell_type": "code",
   "execution_count": null,
   "id": "a89dc4c2",
   "metadata": {},
   "outputs": [],
   "source": [
    "#Q22. Write a python program to get a string made of the first 2 and the last 2\n",
    "# chars from a given string. If the string length is less than 2, return an empty \n",
    "# string"
   ]
  },
  {
   "cell_type": "code",
   "execution_count": null,
   "id": "83d9e968",
   "metadata": {},
   "outputs": [],
   "source": []
  }
 ],
 "metadata": {
  "kernelspec": {
   "display_name": "Python 3 (ipykernel)",
   "language": "python",
   "name": "python3"
  },
  "language_info": {
   "codemirror_mode": {
    "name": "ipython",
    "version": 3
   },
   "file_extension": ".py",
   "mimetype": "text/x-python",
   "name": "python",
   "nbconvert_exporter": "python",
   "pygments_lexer": "ipython3",
   "version": "3.9.12"
  }
 },
 "nbformat": 4,
 "nbformat_minor": 5
}
